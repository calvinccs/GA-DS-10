{
 "cells": [
  {
   "cell_type": "markdown",
   "metadata": {},
   "source": [
    "## Write programs to perform matrices operations\n",
    "NB: Without using any libruaries such as Numpy"
   ]
  },
  {
   "cell_type": "code",
   "execution_count": 205,
   "metadata": {
    "collapsed": false
   },
   "outputs": [],
   "source": [
    "%reset -f\n",
    "from __future__ import print_function\n",
    "from __future__ import division"
   ]
  },
  {
   "cell_type": "code",
   "execution_count": 206,
   "metadata": {
    "collapsed": true
   },
   "outputs": [],
   "source": [
    "# for easy printing matrix only (not try to cheat!)\n",
    "from numpy import matrix as mat\n",
    "from numpy import eye as eye"
   ]
  },
  {
   "cell_type": "markdown",
   "metadata": {},
   "source": [
    "### 1. Addition of matrices"
   ]
  },
  {
   "cell_type": "code",
   "execution_count": 207,
   "metadata": {
    "collapsed": false
   },
   "outputs": [
    {
     "name": "stdout",
     "output_type": "stream",
     "text": [
      "[1, 2, 3, 4, 5, 6]\n"
     ]
    }
   ],
   "source": [
    "# Addition of matrices\n",
    "a = [1,2,3]\n",
    "b = [4,5,6]\n",
    "# Addition of a + b in term of matrix\n",
    "\n",
    "# Note: adding the two list will give you:\n",
    "print(a+b)"
   ]
  },
  {
   "cell_type": "code",
   "execution_count": 208,
   "metadata": {
    "collapsed": false
   },
   "outputs": [],
   "source": [
    "# logic: adding each element of a vector then add each row(r) of a matrix\n",
    "def mat_rs(x):\n",
    "    return [len(row) for row in x] # just to check the dimension of matrix\n",
    "\n",
    "def mat_add(mat_x, mat_y):    \n",
    "    if mat_rs(mat_x) != mat_rs(mat_y):\n",
    "        print('Warning!!! Matrices dimensions are not the same!!!!')\n",
    "    else:\n",
    "        return [[mat_x[r][i] + mat_y[r][i] for i, v in enumerate(mat_x[r])] for r, v in enumerate(mat_x)]"
   ]
  },
  {
   "cell_type": "code",
   "execution_count": 209,
   "metadata": {
    "collapsed": false,
    "scrolled": true
   },
   "outputs": [
    {
     "name": "stdout",
     "output_type": "stream",
     "text": [
      "[[ 8 10 12]]\n",
      "[[ 8 10 12]\n",
      " [ 9  6  6]\n",
      " [ 7  7  7]]\n"
     ]
    }
   ],
   "source": [
    "# examples\n",
    "a = [[1,2,3]]\n",
    "b = [[7,8,9]]\n",
    "print(mat(mat_add(a, b)))\n",
    "a = [[1,2,3],[4,5,6],[4,3,5]]\n",
    "b = [[7,8,9],[5,1,0],[3,4,2]]\n",
    "print(mat(mat_add(a, b)))"
   ]
  },
  {
   "cell_type": "code",
   "execution_count": 210,
   "metadata": {
    "collapsed": false
   },
   "outputs": [
    {
     "name": "stdout",
     "output_type": "stream",
     "text": [
      "The slowest run took 5.94 times longer than the fastest. This could mean that an intermediate result is being cached.\n",
      "100000 loops, best of 3: 2.69 µs per loop\n"
     ]
    }
   ],
   "source": [
    "%%timeit\n",
    "mat_add(a, b)"
   ]
  },
  {
   "cell_type": "code",
   "execution_count": 211,
   "metadata": {
    "collapsed": false
   },
   "outputs": [
    {
     "name": "stdout",
     "output_type": "stream",
     "text": [
      "100000 loops, best of 3: 12.2 µs per loop\n"
     ]
    }
   ],
   "source": [
    "%%timeit\n",
    "mat(a)+mat(b)"
   ]
  },
  {
   "cell_type": "markdown",
   "metadata": {},
   "source": [
    "### 2. Scalar multiplication of matrices"
   ]
  },
  {
   "cell_type": "code",
   "execution_count": 212,
   "metadata": {
    "collapsed": false
   },
   "outputs": [
    {
     "name": "stdout",
     "output_type": "stream",
     "text": [
      "[1, 2, 3, 1, 2, 3, 1, 2, 3]\n"
     ]
    }
   ],
   "source": [
    "# Scalar multiplication of matrices\n",
    "a = [1,2,3]\n",
    "\n",
    "# Note: when multiply a list to 3 will give you:\n",
    "print(a*3)"
   ]
  },
  {
   "cell_type": "code",
   "execution_count": 213,
   "metadata": {
    "collapsed": true
   },
   "outputs": [],
   "source": [
    "# logic: just time each elements of a list then loop the rest\n",
    "def mat_sc_mult(mat, s):\n",
    "    return [[x*s for x in mat[r]] for r in range(len(mat))]"
   ]
  },
  {
   "cell_type": "code",
   "execution_count": 214,
   "metadata": {
    "collapsed": false
   },
   "outputs": [
    {
     "name": "stdout",
     "output_type": "stream",
     "text": [
      "[[ 4  8 12]]\n",
      "[[10 20 30]\n",
      " [40 50 60]\n",
      " [40 30 50]\n",
      " [20 30 40]]\n"
     ]
    }
   ],
   "source": [
    "# # examples\n",
    "a = [[1,2,3]]\n",
    "print(mat(mat_sc_mult(a,4)))\n",
    "a = [[1,2,3],[4,5,6],[4,3,5],[2,3,4]]\n",
    "print(mat(mat_sc_mult(a,10)))"
   ]
  },
  {
   "cell_type": "code",
   "execution_count": 215,
   "metadata": {
    "collapsed": false
   },
   "outputs": [
    {
     "name": "stdout",
     "output_type": "stream",
     "text": [
      "The slowest run took 6.24 times longer than the fastest. This could mean that an intermediate result is being cached.\n",
      "1000000 loops, best of 3: 1.3 µs per loop\n"
     ]
    }
   ],
   "source": [
    "%%timeit\n",
    "mat_sc_mult(a, 10)"
   ]
  },
  {
   "cell_type": "code",
   "execution_count": 216,
   "metadata": {
    "collapsed": false
   },
   "outputs": [
    {
     "name": "stdout",
     "output_type": "stream",
     "text": [
      "The slowest run took 13.90 times longer than the fastest. This could mean that an intermediate result is being cached.\n",
      "100000 loops, best of 3: 8.84 µs per loop\n"
     ]
    }
   ],
   "source": [
    "%%timeit\n",
    "mat(a)*10"
   ]
  },
  {
   "cell_type": "markdown",
   "metadata": {},
   "source": [
    "### 3. Matrix Transpose"
   ]
  },
  {
   "cell_type": "code",
   "execution_count": 217,
   "metadata": {
    "collapsed": false
   },
   "outputs": [
    {
     "name": "stdout",
     "output_type": "stream",
     "text": [
      "[[1 5 9]\n",
      " [2 6 0]\n",
      " [3 7 1]\n",
      " [4 8 2]]\n"
     ]
    }
   ],
   "source": [
    "# The function is given, but the logic is basically create a list from the nth element of each row\n",
    "def mat_tran(x):\n",
    "    return [[row[n] for row in x] for n in range(len(x[0]))]\n",
    "\n",
    "a = [[1, 2, 3, 4],[5, 6, 7, 8],[9, 0, 1, 2]]\n",
    "print(mat(mat_tran(a)))"
   ]
  },
  {
   "cell_type": "markdown",
   "metadata": {},
   "source": [
    "### 4. Vector Matrix Multiplication"
   ]
  },
  {
   "cell_type": "code",
   "execution_count": 218,
   "metadata": {
    "collapsed": false
   },
   "outputs": [],
   "source": [
    "def mat_x_vec(matrix, vector):\n",
    "    if len(matrix[0]) != len(vector):\n",
    "        print('Warning! Dimension of the input matrix and vector cannot perform multiplication!!')\n",
    "    \"\"\"\n",
    "    Basically, to do this:\n",
    "    [[a b c]      [[z]     [[az+bv+cq]\n",
    "     [d e f]]  x   [v]  =   [dz+ev+fq]]\n",
    "                   [q]]     \n",
    "    note that:\n",
    "    matrix in the form of [[a,b,c],[d,e,f]] \n",
    "    vector in the form of [[z],[v],[q]]\n",
    "    \"\"\"\n",
    "    for r in range(len(matrix)):\n",
    "        return [[sum([matrix[r][i]*vector[i][0] for i, v in enumerate(vector)])]\n",
    "                for r in range(len(matrix))]"
   ]
  },
  {
   "cell_type": "code",
   "execution_count": 219,
   "metadata": {
    "collapsed": false
   },
   "outputs": [
    {
     "name": "stdout",
     "output_type": "stream",
     "text": [
      "[[ 50]\n",
      " [122]]\n",
      "[[  60]\n",
      " [ 180]\n",
      " [1184]\n",
      " [  46]]\n"
     ]
    }
   ],
   "source": [
    "# examples:\n",
    "a1 = [[1,2,3],[4,5,6]]\n",
    "a2 = [[7],[8],[9]]\n",
    "print(mat(mat_x_vec(a1, a2)))\n",
    "\n",
    "b1 = [[1,2,3,4],[7,8,9,10],[23,45,65,71],[0,2,1,4]]\n",
    "b2 = [[2],[4],[6],[8]]\n",
    "print(mat(mat_x_vec(b1, b2)))\n"
   ]
  },
  {
   "cell_type": "code",
   "execution_count": 220,
   "metadata": {
    "collapsed": false,
    "scrolled": false
   },
   "outputs": [
    {
     "name": "stdout",
     "output_type": "stream",
     "text": [
      "[[ 50]\n",
      " [122]]\n",
      "[[  60]\n",
      " [ 180]\n",
      " [1184]\n",
      " [  46]]\n"
     ]
    }
   ],
   "source": [
    "# check answer using numpy matrix\n",
    "print(mat(a1)*mat(a2))\n",
    "print(mat(b1)*mat(b2))"
   ]
  },
  {
   "cell_type": "code",
   "execution_count": 221,
   "metadata": {
    "collapsed": false
   },
   "outputs": [
    {
     "name": "stdout",
     "output_type": "stream",
     "text": [
      "Warning! Dimension of the input matrix and vector cannot perform multiplication!!\n"
     ]
    },
    {
     "ename": "IndexError",
     "evalue": "list index out of range",
     "output_type": "error",
     "traceback": [
      "\u001b[0;31m\u001b[0m",
      "\u001b[0;31mIndexError\u001b[0mTraceback (most recent call last)",
      "\u001b[0;32m<ipython-input-221-7926722b0212>\u001b[0m in \u001b[0;36m<module>\u001b[0;34m()\u001b[0m\n\u001b[1;32m      2\u001b[0m \u001b[0mc1\u001b[0m \u001b[0;34m=\u001b[0m \u001b[0;34m[\u001b[0m\u001b[0;34m[\u001b[0m\u001b[0;36m1\u001b[0m\u001b[0;34m,\u001b[0m\u001b[0;36m2\u001b[0m\u001b[0;34m,\u001b[0m\u001b[0;36m3\u001b[0m\u001b[0;34m]\u001b[0m\u001b[0;34m,\u001b[0m\u001b[0;34m[\u001b[0m\u001b[0;36m7\u001b[0m\u001b[0;34m,\u001b[0m\u001b[0;36m8\u001b[0m\u001b[0;34m,\u001b[0m\u001b[0;36m9\u001b[0m\u001b[0;34m]\u001b[0m\u001b[0;34m,\u001b[0m\u001b[0;34m[\u001b[0m\u001b[0;36m23\u001b[0m\u001b[0;34m,\u001b[0m\u001b[0;36m45\u001b[0m\u001b[0;34m,\u001b[0m\u001b[0;36m65\u001b[0m\u001b[0;34m]\u001b[0m\u001b[0;34m,\u001b[0m\u001b[0;34m[\u001b[0m\u001b[0;36m0\u001b[0m\u001b[0;34m,\u001b[0m\u001b[0;36m2\u001b[0m\u001b[0;34m,\u001b[0m\u001b[0;36m1\u001b[0m\u001b[0;34m]\u001b[0m\u001b[0;34m]\u001b[0m\u001b[0;34m\u001b[0m\u001b[0m\n\u001b[1;32m      3\u001b[0m \u001b[0mc2\u001b[0m \u001b[0;34m=\u001b[0m \u001b[0;34m[\u001b[0m\u001b[0;34m[\u001b[0m\u001b[0;36m2\u001b[0m\u001b[0;34m]\u001b[0m\u001b[0;34m,\u001b[0m\u001b[0;34m[\u001b[0m\u001b[0;36m4\u001b[0m\u001b[0;34m]\u001b[0m\u001b[0;34m,\u001b[0m\u001b[0;34m[\u001b[0m\u001b[0;36m6\u001b[0m\u001b[0;34m]\u001b[0m\u001b[0;34m,\u001b[0m\u001b[0;34m[\u001b[0m\u001b[0;36m8\u001b[0m\u001b[0;34m]\u001b[0m\u001b[0;34m]\u001b[0m\u001b[0;34m\u001b[0m\u001b[0m\n\u001b[0;32m----> 4\u001b[0;31m \u001b[0;32mprint\u001b[0m\u001b[0;34m(\u001b[0m\u001b[0mmat\u001b[0m\u001b[0;34m(\u001b[0m\u001b[0mmat_x_vec\u001b[0m\u001b[0;34m(\u001b[0m\u001b[0mc1\u001b[0m\u001b[0;34m,\u001b[0m \u001b[0mc2\u001b[0m\u001b[0;34m)\u001b[0m\u001b[0;34m)\u001b[0m\u001b[0;34m)\u001b[0m\u001b[0;34m\u001b[0m\u001b[0m\n\u001b[0m",
      "\u001b[0;32m<ipython-input-218-e6e515a49dcf>\u001b[0m in \u001b[0;36mmat_x_vec\u001b[0;34m(matrix, vector)\u001b[0m\n\u001b[1;32m     13\u001b[0m     \u001b[0;32mfor\u001b[0m \u001b[0mr\u001b[0m \u001b[0;32min\u001b[0m \u001b[0mrange\u001b[0m\u001b[0;34m(\u001b[0m\u001b[0mlen\u001b[0m\u001b[0;34m(\u001b[0m\u001b[0mmatrix\u001b[0m\u001b[0;34m)\u001b[0m\u001b[0;34m)\u001b[0m\u001b[0;34m:\u001b[0m\u001b[0;34m\u001b[0m\u001b[0m\n\u001b[1;32m     14\u001b[0m         return [[sum([matrix[r][i]*vector[i][0] for i, v in enumerate(vector)])]\n\u001b[0;32m---> 15\u001b[0;31m                 for r in range(len(matrix))]\n\u001b[0m",
      "\u001b[0;31mIndexError\u001b[0m: list index out of range"
     ]
    }
   ],
   "source": [
    "# error example\n",
    "c1 = [[1,2,3],[7,8,9],[23,45,65],[0,2,1]]\n",
    "c2 = [[2],[4],[6],[8]]\n",
    "print(mat(mat_x_vec(c1, c2)))"
   ]
  },
  {
   "cell_type": "code",
   "execution_count": 222,
   "metadata": {
    "collapsed": false,
    "scrolled": true
   },
   "outputs": [
    {
     "name": "stdout",
     "output_type": "stream",
     "text": [
      "100000 loops, best of 3: 4.19 µs per loop\n"
     ]
    }
   ],
   "source": [
    "%%timeit\n",
    "mat_x_vec(b1,b2)"
   ]
  },
  {
   "cell_type": "code",
   "execution_count": 224,
   "metadata": {
    "collapsed": false
   },
   "outputs": [
    {
     "name": "stdout",
     "output_type": "stream",
     "text": [
      "The slowest run took 4.53 times longer than the fastest. This could mean that an intermediate result is being cached.\n",
      "100000 loops, best of 3: 13 µs per loop\n"
     ]
    }
   ],
   "source": [
    "%%timeit\n",
    "mat(b1)*mat(b2)"
   ]
  },
  {
   "cell_type": "markdown",
   "metadata": {},
   "source": [
    "### 5. Matrix Matrix Multiplication"
   ]
  },
  {
   "cell_type": "code",
   "execution_count": 225,
   "metadata": {
    "collapsed": false
   },
   "outputs": [],
   "source": [
    "def mat_x_mat(mat1, mat2):\n",
    "    if len(mat1[0]) != len(mat2):\n",
    "        print('Warning! Dimension of the input matrix and vector cannot perform ultiplication!!')\n",
    "    \"\"\"\n",
    "    Basically, to do this:\n",
    "    [[a b c]      [[z x]     [[az+bv+cq ax+by+cw]\n",
    "     [d e f]]  x   [v y]  =   [dz+ev+fq dx+ey+fw]]\n",
    "                   [q w]]     \n",
    "    note that:\n",
    "    matrix in the form of [[a,b,c],[d,e,f]] \n",
    "    vector in the form of [[z,x],[v,y],[q,w]]\n",
    "    \"\"\"\n",
    "    for r in range(len(mat1)):\n",
    "        return [[sum([mat1[r][i]*mat2[i][c] for i, v in enumerate(mat2)])\n",
    "                for c in range(len(mat2[0]))] for r in range(len(mat1))]"
   ]
  },
  {
   "cell_type": "code",
   "execution_count": 226,
   "metadata": {
    "collapsed": false,
    "scrolled": false
   },
   "outputs": [
    {
     "name": "stdout",
     "output_type": "stream",
     "text": [
      "[[ 50  10]\n",
      " [122  28]]\n",
      "[[  60   39   68]\n",
      " [ 180  147  218]\n",
      " [1184  862 1363]\n",
      " [  46   21   49]]\n",
      "[[ 50]\n",
      " [122]]\n"
     ]
    }
   ],
   "source": [
    "# exampes\n",
    "a1 = [[1,2,3],[4,5,6]]\n",
    "a2 = [[7,3], [8,2], [9,1]]\n",
    "print(mat(mat_x_mat(a1,a2)))\n",
    "\n",
    "b1 = [[1,2,3,4],[7,8,9,10],[23,45,65,71],[0,2,1,4]]\n",
    "b2 = [[2,4,5],[4,7,5],[6,7,7],[8,0,8]]\n",
    "print(mat(mat_x_mat(b1, b2)))\n",
    "\n",
    "c1 = [[1,2,3],[4,5,6]]\n",
    "c2 = [[7],[8],[9]]\n",
    "print(mat(mat_x_mat(c1, c2)))"
   ]
  },
  {
   "cell_type": "code",
   "execution_count": 227,
   "metadata": {
    "collapsed": false,
    "scrolled": true
   },
   "outputs": [
    {
     "name": "stdout",
     "output_type": "stream",
     "text": [
      "[[ 50  10]\n",
      " [122  28]]\n",
      "[[  60   39   68]\n",
      " [ 180  147  218]\n",
      " [1184  862 1363]\n",
      " [  46   21   49]]\n",
      "[[ 50]\n",
      " [122]]\n"
     ]
    }
   ],
   "source": [
    "# check answer using numpy matrix\n",
    "print(mat(a1)*mat(a2))\n",
    "print(mat(b1)*mat(b2))\n",
    "print(mat(c1)*mat(c2))"
   ]
  },
  {
   "cell_type": "code",
   "execution_count": 228,
   "metadata": {
    "collapsed": false,
    "scrolled": false
   },
   "outputs": [
    {
     "name": "stdout",
     "output_type": "stream",
     "text": [
      "Warning! Dimension of the input matrix and vector cannot perform ultiplication!!\n"
     ]
    },
    {
     "ename": "IndexError",
     "evalue": "list index out of range",
     "output_type": "error",
     "traceback": [
      "\u001b[0;31m\u001b[0m",
      "\u001b[0;31mIndexError\u001b[0mTraceback (most recent call last)",
      "\u001b[0;32m<ipython-input-228-17e71288e108>\u001b[0m in \u001b[0;36m<module>\u001b[0;34m()\u001b[0m\n\u001b[1;32m      2\u001b[0m \u001b[0md1\u001b[0m \u001b[0;34m=\u001b[0m \u001b[0;34m[\u001b[0m\u001b[0;34m[\u001b[0m\u001b[0;36m1\u001b[0m\u001b[0;34m,\u001b[0m\u001b[0;36m2\u001b[0m\u001b[0;34m,\u001b[0m\u001b[0;36m3\u001b[0m\u001b[0;34m]\u001b[0m\u001b[0;34m,\u001b[0m\u001b[0;34m[\u001b[0m\u001b[0;36m7\u001b[0m\u001b[0;34m,\u001b[0m\u001b[0;36m8\u001b[0m\u001b[0;34m,\u001b[0m\u001b[0;36m9\u001b[0m\u001b[0;34m]\u001b[0m\u001b[0;34m,\u001b[0m\u001b[0;34m[\u001b[0m\u001b[0;36m23\u001b[0m\u001b[0;34m,\u001b[0m\u001b[0;36m45\u001b[0m\u001b[0;34m,\u001b[0m\u001b[0;36m65\u001b[0m\u001b[0;34m]\u001b[0m\u001b[0;34m,\u001b[0m\u001b[0;34m[\u001b[0m\u001b[0;36m0\u001b[0m\u001b[0;34m,\u001b[0m\u001b[0;36m2\u001b[0m\u001b[0;34m,\u001b[0m\u001b[0;36m1\u001b[0m\u001b[0;34m]\u001b[0m\u001b[0;34m]\u001b[0m\u001b[0;34m\u001b[0m\u001b[0m\n\u001b[1;32m      3\u001b[0m \u001b[0md2\u001b[0m \u001b[0;34m=\u001b[0m \u001b[0;34m[\u001b[0m\u001b[0;34m[\u001b[0m\u001b[0;36m2\u001b[0m\u001b[0;34m,\u001b[0m\u001b[0;36m3\u001b[0m\u001b[0;34m]\u001b[0m\u001b[0;34m,\u001b[0m\u001b[0;34m[\u001b[0m\u001b[0;36m4\u001b[0m\u001b[0;34m,\u001b[0m\u001b[0;36m4\u001b[0m\u001b[0;34m]\u001b[0m\u001b[0;34m,\u001b[0m\u001b[0;34m[\u001b[0m\u001b[0;36m6\u001b[0m\u001b[0;34m,\u001b[0m\u001b[0;36m6\u001b[0m\u001b[0;34m]\u001b[0m\u001b[0;34m,\u001b[0m\u001b[0;34m[\u001b[0m\u001b[0;36m8\u001b[0m\u001b[0;34m,\u001b[0m\u001b[0;36m1\u001b[0m\u001b[0;34m]\u001b[0m\u001b[0;34m]\u001b[0m\u001b[0;34m\u001b[0m\u001b[0m\n\u001b[0;32m----> 4\u001b[0;31m \u001b[0;32mprint\u001b[0m\u001b[0;34m(\u001b[0m\u001b[0mmat\u001b[0m\u001b[0;34m(\u001b[0m\u001b[0mmat_x_mat\u001b[0m\u001b[0;34m(\u001b[0m\u001b[0md1\u001b[0m\u001b[0;34m,\u001b[0m \u001b[0md2\u001b[0m\u001b[0;34m)\u001b[0m\u001b[0;34m)\u001b[0m\u001b[0;34m)\u001b[0m\u001b[0;34m\u001b[0m\u001b[0m\n\u001b[0m",
      "\u001b[0;32m<ipython-input-225-791340b76d2b>\u001b[0m in \u001b[0;36mmat_x_mat\u001b[0;34m(mat1, mat2)\u001b[0m\n\u001b[1;32m     13\u001b[0m     \u001b[0;32mfor\u001b[0m \u001b[0mr\u001b[0m \u001b[0;32min\u001b[0m \u001b[0mrange\u001b[0m\u001b[0;34m(\u001b[0m\u001b[0mlen\u001b[0m\u001b[0;34m(\u001b[0m\u001b[0mmat1\u001b[0m\u001b[0;34m)\u001b[0m\u001b[0;34m)\u001b[0m\u001b[0;34m:\u001b[0m\u001b[0;34m\u001b[0m\u001b[0m\n\u001b[1;32m     14\u001b[0m         return [[sum([mat1[r][i]*mat2[i][c] for i, v in enumerate(mat2)])\n\u001b[0;32m---> 15\u001b[0;31m                 for c in range(len(mat2[0]))] for r in range(len(mat1))]\n\u001b[0m",
      "\u001b[0;31mIndexError\u001b[0m: list index out of range"
     ]
    }
   ],
   "source": [
    "# error example\n",
    "d1 = [[1,2,3],[7,8,9],[23,45,65],[0,2,1]]\n",
    "d2 = [[2,3],[4,4],[6,6],[8,1]]\n",
    "print(mat(mat_x_mat(d1, d2)))"
   ]
  },
  {
   "cell_type": "code",
   "execution_count": 229,
   "metadata": {
    "collapsed": false
   },
   "outputs": [
    {
     "name": "stdout",
     "output_type": "stream",
     "text": [
      "The slowest run took 18.16 times longer than the fastest. This could mean that an intermediate result is being cached.\n",
      "100000 loops, best of 3: 11 µs per loop\n"
     ]
    }
   ],
   "source": [
    "%%timeit\n",
    "mat_x_mat(b1, b2)"
   ]
  },
  {
   "cell_type": "code",
   "execution_count": 230,
   "metadata": {
    "collapsed": false,
    "scrolled": true
   },
   "outputs": [
    {
     "name": "stdout",
     "output_type": "stream",
     "text": [
      "The slowest run took 4.61 times longer than the fastest. This could mean that an intermediate result is being cached.\n",
      "100000 loops, best of 3: 13 µs per loop\n"
     ]
    }
   ],
   "source": [
    "%%timeit\n",
    "mat(b1)*mat(b2)"
   ]
  },
  {
   "cell_type": "markdown",
   "metadata": {
    "collapsed": true
   },
   "source": [
    "# PROGRAMMER GOAL\n",
    "Write test cases and use try/catch in your functions for when matrices are not defined correctly (ie: [ [1,2,3], [4,5] ] is not a matrix.) Or, create a matrix class that also follows these rules."
   ]
  },
  {
   "cell_type": "markdown",
   "metadata": {},
   "source": [
    "Write a function that creates an identity matrix. An identity matrix is a matrix where value = 1 if the row and column index are the same, and 0 otherwise. It should build any size identity matrix you want.\n",
    "Example: iMatrix(4) should be:"
   ]
  },
  {
   "cell_type": "code",
   "execution_count": 231,
   "metadata": {
    "collapsed": false
   },
   "outputs": [
    {
     "name": "stdout",
     "output_type": "stream",
     "text": [
      "[[1 0 0 0]\n",
      " [0 1 0 0]\n",
      " [0 0 1 0]\n",
      " [0 0 0 1]]\n"
     ]
    }
   ],
   "source": [
    "i = [[1, 0, 0, 0],\n",
    "[0, 1, 0, 0],\n",
    "[0, 0, 1, 0],\n",
    "[0, 0, 0, 1]]\n",
    "print(mat(i))"
   ]
  },
  {
   "cell_type": "code",
   "execution_count": 232,
   "metadata": {
    "collapsed": true
   },
   "outputs": [],
   "source": [
    "x = [[1,2,3],[4,5,6],[7,8,9]]\n",
    "y = [[1,2,3],[4,5,6,7],[7,8,9]]"
   ]
  },
  {
   "cell_type": "code",
   "execution_count": 233,
   "metadata": {
    "collapsed": false
   },
   "outputs": [
    {
     "name": "stdout",
     "output_type": "stream",
     "text": [
      "[[1, 2, 3], [4, 5, 6, 7], [7, 8, 9]] is not a matrix!!\n"
     ]
    }
   ],
   "source": [
    "def mat_check(x):\n",
    "    for i in range(len(x)):\n",
    "        if len(x[i]) != len(x[0]):\n",
    "            print('%s is not a matrix!!' % str(x))\n",
    "        \n",
    "mat_check(y)    "
   ]
  },
  {
   "cell_type": "code",
   "execution_count": 234,
   "metadata": {
    "collapsed": false
   },
   "outputs": [],
   "source": [
    "def id_mat(x):\n",
    "    # x is the dimension of the identity matrix, i.e. for 3 x 3 identity matrix, x = 3.\n",
    "    idmat = [([0]*x) for i in range(x)]\n",
    "    for i in range(x):\n",
    "        idmat[i][i] = 1\n",
    "    return(idmat)"
   ]
  },
  {
   "cell_type": "code",
   "execution_count": 235,
   "metadata": {
    "collapsed": false
   },
   "outputs": [
    {
     "name": "stdout",
     "output_type": "stream",
     "text": [
      "The slowest run took 4.93 times longer than the fastest. This could mean that an intermediate result is being cached.\n",
      "1000000 loops, best of 3: 1.65 µs per loop\n"
     ]
    }
   ],
   "source": [
    "%%timeit\n",
    "id_mat(5) # using self define function"
   ]
  },
  {
   "cell_type": "code",
   "execution_count": 237,
   "metadata": {
    "collapsed": false
   },
   "outputs": [
    {
     "name": "stdout",
     "output_type": "stream",
     "text": [
      "The slowest run took 16.58 times longer than the fastest. This could mean that an intermediate result is being cached.\n",
      "1000000 loops, best of 3: 1.32 µs per loop\n"
     ]
    }
   ],
   "source": [
    "%%timeit\n",
    "eye(5) # using numpy function"
   ]
  }
 ],
 "metadata": {
  "kernelspec": {
   "display_name": "Python 2",
   "language": "python",
   "name": "python2"
  },
  "language_info": {
   "codemirror_mode": {
    "name": "ipython",
    "version": 2
   },
   "file_extension": ".py",
   "mimetype": "text/x-python",
   "name": "python",
   "nbconvert_exporter": "python",
   "pygments_lexer": "ipython2",
   "version": "2.7.12"
  }
 },
 "nbformat": 4,
 "nbformat_minor": 0
}
