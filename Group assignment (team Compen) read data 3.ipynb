{
 "cells": [
  {
   "cell_type": "code",
   "execution_count": 1,
   "metadata": {
    "collapsed": true
   },
   "outputs": [],
   "source": [
    "import numpy as np\n",
    "import pandas as pd"
   ]
  },
  {
   "cell_type": "code",
   "execution_count": 2,
   "metadata": {
    "collapsed": true
   },
   "outputs": [],
   "source": [
    "df = pd.read_csv('flightdelay.csv')"
   ]
  },
  {
   "cell_type": "code",
   "execution_count": 5,
   "metadata": {
    "collapsed": true
   },
   "outputs": [],
   "source": [
    "# select column to convert to category\n",
    "catcol = ['unique_carrier', 'origin', 'origin_city_name', 'origin_state_abr', 'dest', 'dest_city_name', 'dest_state_abr']\n",
    "df[catcol] = df[catcol].apply(lambda c: c.astype('category'))"
   ]
  },
  {
   "cell_type": "code",
   "execution_count": 6,
   "metadata": {
    "collapsed": false
   },
   "outputs": [
    {
     "name": "stdout",
     "output_type": "stream",
     "text": [
      "<class 'pandas.core.frame.DataFrame'>\n",
      "RangeIndex: 1065816 entries, 0 to 1065815\n",
      "Data columns (total 43 columns):\n",
      "Unnamed: 0             1065816 non-null int64\n",
      "year                   1065816 non-null int64\n",
      "month                  1065816 non-null int64\n",
      "day_of_month           1065816 non-null int64\n",
      "day_of_week            1065816 non-null int64\n",
      "unique_carrier         1065816 non-null category\n",
      "origin                 1065816 non-null category\n",
      "origin_city_name       1065816 non-null category\n",
      "origin_state_abr       1065816 non-null category\n",
      "dest                   1065816 non-null category\n",
      "dest_city_name         1065816 non-null category\n",
      "dest_state_abr         1065816 non-null category\n",
      "crs_dep_time           1065816 non-null int64\n",
      "dep_time               1065816 non-null float64\n",
      "dep_delay              1065816 non-null float64\n",
      "dep_delay_new          1065816 non-null float64\n",
      "dep_del15              1065816 non-null float64\n",
      "dep_delay_group        1065816 non-null float64\n",
      "dep_time_blk           1065816 non-null object\n",
      "taxi_out               1065816 non-null float64\n",
      "wheels_off             1065816 non-null float64\n",
      "wheels_on              1065816 non-null float64\n",
      "taxi_in                1065816 non-null float64\n",
      "crs_arr_time           1065816 non-null int64\n",
      "arr_time               1065816 non-null float64\n",
      "arr_delay              1065816 non-null float64\n",
      "arr_delay_new          1065816 non-null float64\n",
      "arr_del15              1065816 non-null float64\n",
      "arr_delay_group        1065816 non-null float64\n",
      "arr_time_blk           1065816 non-null object\n",
      "crs_elapsed_time       1065816 non-null float64\n",
      "actual_elapsed_time    1065816 non-null float64\n",
      "air_time               1065816 non-null float64\n",
      "distance               1065816 non-null float64\n",
      "distance_group         1065816 non-null int64\n",
      "carrier_delay          1065816 non-null float64\n",
      "weather_delay          1065816 non-null float64\n",
      "nas_delay              1065816 non-null float64\n",
      "security_delay         1065816 non-null float64\n",
      "late_aircraft_delay    1065816 non-null float64\n",
      "first_dep_time         30992 non-null float64\n",
      "total_add_gtime        30992 non-null float64\n",
      "longest_add_gtime      30992 non-null float64\n",
      "dtypes: category(7), float64(26), int64(8), object(2)\n",
      "memory usage: 303.9+ MB\n"
     ]
    }
   ],
   "source": [
    "df.info()"
   ]
  },
  {
   "cell_type": "code",
   "execution_count": null,
   "metadata": {
    "collapsed": true
   },
   "outputs": [],
   "source": []
  }
 ],
 "metadata": {
  "kernelspec": {
   "display_name": "Python 2",
   "language": "python",
   "name": "python2"
  },
  "language_info": {
   "codemirror_mode": {
    "name": "ipython",
    "version": 2
   },
   "file_extension": ".py",
   "mimetype": "text/x-python",
   "name": "python",
   "nbconvert_exporter": "python",
   "pygments_lexer": "ipython2",
   "version": "2.7.12"
  }
 },
 "nbformat": 4,
 "nbformat_minor": 1
}
