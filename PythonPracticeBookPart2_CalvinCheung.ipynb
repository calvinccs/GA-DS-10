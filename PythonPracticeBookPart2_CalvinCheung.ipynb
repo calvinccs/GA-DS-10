{
 "cells": [
  {
   "cell_type": "markdown",
   "metadata": {},
   "source": [
    "# Python Practice Book\n",
    "\n",
    "website: http://anandology.com/python-practice-book/getting-started.html\n",
    "\n",
    "### 2 Working with Data: \n",
    "\n",
    "2.1. Lists\n",
    "2.2. Tuples\n",
    "2.3. Sets\n",
    "2.4. Strings\n",
    "2.5. Working With Files\n",
    "2.6. List Comprehensions\n",
    "2.7. Dictionaries"
   ]
  },
  {
   "cell_type": "code",
   "execution_count": 99,
   "metadata": {
    "collapsed": false
   },
   "outputs": [
    {
     "name": "stdout",
     "output_type": "stream",
     "text": [
      "[0, 1, [3]]\n",
      "[0, 1, [3, 4]]\n",
      "[0, 1, 2]\n"
     ]
    }
   ],
   "source": [
    "# Problem 1: What will be the output of the following program?\n",
    "x = [0, 1, [2]]\n",
    "x[2][0] = 3\n",
    "print x\n",
    "x[2].append(4)\n",
    "print x\n",
    "x[2] = 2\n",
    "print x\n",
    "# x[2] is a list inside the list - x"
   ]
  },
  {
   "cell_type": "code",
   "execution_count": 100,
   "metadata": {
    "collapsed": false
   },
   "outputs": [
    {
     "data": {
      "text/plain": [
       "[('a', 1), ('b', 2), ('c', 3)]"
      ]
     },
     "execution_count": 100,
     "metadata": {},
     "output_type": "execute_result"
    }
   ],
   "source": [
    "zip([\"a\", \"b\", \"c\"], [1, 2, 3])"
   ]
  },
  {
   "cell_type": "code",
   "execution_count": 101,
   "metadata": {
    "collapsed": false
   },
   "outputs": [
    {
     "data": {
      "text/plain": [
       "6"
      ]
     },
     "execution_count": 101,
     "metadata": {},
     "output_type": "execute_result"
    }
   ],
   "source": [
    "# Problem 2: Python has a built-in function sum to find sum of \n",
    "# all elements of a list. \n",
    "# Provide an implementation for sum.\n",
    "\n",
    "sum([1, 2, 3])\n",
    "# sum only use for list of numbers"
   ]
  },
  {
   "cell_type": "code",
   "execution_count": 102,
   "metadata": {
    "collapsed": false
   },
   "outputs": [
    {
     "ename": "TypeError",
     "evalue": "unsupported operand type(s) for +: 'int' and 'str'",
     "output_type": "error",
     "traceback": [
      "\u001b[0;31m\u001b[0m",
      "\u001b[0;31mTypeError\u001b[0mTraceback (most recent call last)",
      "\u001b[0;32m<ipython-input-102-e000133993f2>\u001b[0m in \u001b[0;36m<module>\u001b[0;34m()\u001b[0m\n\u001b[1;32m      2\u001b[0m \u001b[0;31m# list of strings? Can you make your sum function work for a list of\u001b[0m\u001b[0;34m\u001b[0m\u001b[0;34m\u001b[0m\u001b[0m\n\u001b[1;32m      3\u001b[0m \u001b[0;31m# strings as well.\u001b[0m\u001b[0;34m\u001b[0m\u001b[0;34m\u001b[0m\u001b[0m\n\u001b[0;32m----> 4\u001b[0;31m \u001b[0msum\u001b[0m\u001b[0;34m(\u001b[0m\u001b[0;34m[\u001b[0m\u001b[0;34m\"hello\"\u001b[0m\u001b[0;34m,\u001b[0m \u001b[0;34m\"world\"\u001b[0m\u001b[0;34m]\u001b[0m\u001b[0;34m)\u001b[0m\u001b[0;34m\u001b[0m\u001b[0m\n\u001b[0m\u001b[1;32m      5\u001b[0m \u001b[0msum\u001b[0m\u001b[0;34m(\u001b[0m\u001b[0;34m[\u001b[0m\u001b[0;34m\"aa\"\u001b[0m\u001b[0;34m,\u001b[0m \u001b[0;34m\"bb\"\u001b[0m\u001b[0;34m,\u001b[0m \u001b[0;34m\"cc\"\u001b[0m\u001b[0;34m]\u001b[0m\u001b[0;34m)\u001b[0m\u001b[0;34m\u001b[0m\u001b[0m\n",
      "\u001b[0;31mTypeError\u001b[0m: unsupported operand type(s) for +: 'int' and 'str'"
     ]
    }
   ],
   "source": [
    "# Problem 3: What happens when the above sum function is called with a \n",
    "# list of strings? Can you make your sum function work for a list of \n",
    "# strings as well.\n",
    "sum([\"hello\", \"world\"])\n",
    "sum([\"aa\", \"bb\", \"cc\"])"
   ]
  },
  {
   "cell_type": "code",
   "execution_count": 118,
   "metadata": {
    "collapsed": false
   },
   "outputs": [
    {
     "name": "stdout",
     "output_type": "stream",
     "text": [
      "helloworld\n",
      "aabbcc\n"
     ]
    }
   ],
   "source": [
    "# Answer_1 of problem 3:\n",
    "def sum1(x):\n",
    "    # x is a list!\n",
    "    p = ''\n",
    "    for i in x:\n",
    "        p = p + i\n",
    "    return p\n",
    "print sum1([\"hello\", \"world\"])\n",
    "print sum1([\"aa\", \"bb\", \"cc\"])"
   ]
  },
  {
   "cell_type": "code",
   "execution_count": 120,
   "metadata": {
    "collapsed": false,
    "scrolled": true
   },
   "outputs": [
    {
     "name": "stdout",
     "output_type": "stream",
     "text": [
      "helloworld\n",
      "aabbcc\n"
     ]
    }
   ],
   "source": [
    "# Answer_2 of problem 3:\n",
    "def sum2(x):\n",
    "    # x is a list of string\n",
    "    return \"\".join(x)\n",
    "print sum2([\"hello\", \"world\"])\n",
    "print sum2([\"aa\", \"bb\", \"cc\"])"
   ]
  },
  {
   "cell_type": "code",
   "execution_count": 105,
   "metadata": {
    "collapsed": false
   },
   "outputs": [
    {
     "name": "stdout",
     "output_type": "stream",
     "text": [
      "6\n"
     ]
    }
   ],
   "source": [
    "# Problem 4: Implement a function product, to compute product of a list \n",
    "# of numbers.\n",
    "def product(x):\n",
    "    # x is a list of numbers\n",
    "    p = 1\n",
    "    for i in x:\n",
    "        p *= i\n",
    "    return p\n",
    "print product([1, 2, 3])"
   ]
  },
  {
   "cell_type": "code",
   "execution_count": 110,
   "metadata": {
    "collapsed": false
   },
   "outputs": [
    {
     "name": "stdout",
     "output_type": "stream",
     "text": [
      "24\n"
     ]
    }
   ],
   "source": [
    "# Problem 5: Write a function factorial to compute factorial of a number. \n",
    "# Can you use the product function defined in the previous example to \n",
    "# compute factorial?\n",
    "def factorial(x):\n",
    "    list_x = range(x+1)\n",
    "    factorial_x = product(list_x[1:])\n",
    "    return factorial_x\n",
    "print factorial(4)"
   ]
  },
  {
   "cell_type": "code",
   "execution_count": 107,
   "metadata": {
    "collapsed": false
   },
   "outputs": [
    {
     "name": "stdout",
     "output_type": "stream",
     "text": [
      "[4, 3, 2, 1]\n",
      "[1, 2, 3, 4]\n"
     ]
    }
   ],
   "source": [
    "# Problem 6: Write a function reverse to reverse a list. \n",
    "# Can you do this without using list slicing?\n",
    "\n",
    "def reverse(x):\n",
    "    # x is a list!\n",
    "    n = []\n",
    "    for i in range(1,len(x)+1):\n",
    "        n.append(x[-i])\n",
    "    return n\n",
    "\n",
    "print reverse([1, 2, 3, 4])\n",
    "print reverse(reverse([1, 2, 3, 4]))"
   ]
  },
  {
   "cell_type": "code",
   "execution_count": 108,
   "metadata": {
    "collapsed": false
   },
   "outputs": [
    {
     "data": {
      "text/plain": [
       "[4, 3, 2, 1]"
      ]
     },
     "execution_count": 108,
     "metadata": {},
     "output_type": "execute_result"
    }
   ],
   "source": [
    "# Reverse using list slicing\n",
    "a = [1, 2, 3, 4]\n",
    "a[::-1]"
   ]
  },
  {
   "cell_type": "code",
   "execution_count": 109,
   "metadata": {
    "collapsed": false
   },
   "outputs": [
    {
     "name": "stdout",
     "output_type": "stream",
     "text": [
      "aa\n",
      "data\n",
      "12345\n",
      "a1b2c3\n"
     ]
    }
   ],
   "source": [
    "# Problem 7: Python has built-in functions min and max to compute minimum \n",
    "# and maximum of a given list. Provide an implementation for these \n",
    "# functions. What happens when you call your min and max functions \n",
    "# with a list of strings?\n",
    "\n",
    "list_1 = ['data', 'apple', 'boy', 'cat', 'aa']\n",
    "print min(list_1)\n",
    "print max(list_1)\n",
    "# use alphabetical order of the first string\n",
    "\n",
    "list_2 = ['54321', '99', '12345', '34', 'a1b2c3']\n",
    "print min(list_2)\n",
    "print max(list_2)\n",
    "# for number string, use the value of the first string, note that 99 is \n",
    "# smaller than 12345 in number"
   ]
  },
  {
   "cell_type": "code",
   "execution_count": 141,
   "metadata": {
    "collapsed": false
   },
   "outputs": [
    {
     "name": "stdout",
     "output_type": "stream",
     "text": [
      "[1, 3, 6, 10]\n",
      "[4, 7, 9, 10]\n",
      "['a', 'ab', 'abc', 'abcd']\n"
     ]
    }
   ],
   "source": [
    "# Problem 8: Cumulative sum of a list [a, b, c, ...] is defined \n",
    "# as [a, a+b, a+b+c, ...]. Write a function cumulative_sum to compute \n",
    "# cumulative sum of a list. Does your implementation work for a list of \n",
    "# strings?\n",
    "\n",
    "def cumulative_sum(x):\n",
    "    # x is either a list of int or a list of str!\n",
    "    n = []\n",
    "    for i in range(1,len(x)+1):\n",
    "        if type(x[0]) == int:\n",
    "            n.append(sum(x[:i]))\n",
    "        elif type(x[0]) == str:\n",
    "            n.append(sum1(x[:i]))\n",
    "        else:\n",
    "            print 'it only works for int and str!'\n",
    "    return n\n",
    "\n",
    "print cumulative_sum([1, 2, 3, 4])\n",
    "print cumulative_sum([4, 3, 2, 1])\n",
    "print cumulative_sum(['a', 'b', 'c', 'd'])"
   ]
  },
  {
   "cell_type": "code",
   "execution_count": 145,
   "metadata": {
    "collapsed": false
   },
   "outputs": [
    {
     "name": "stdout",
     "output_type": "stream",
     "text": [
      "[1, 2, 6, 24]\n",
      "[4, 12, 24, 24]\n"
     ]
    }
   ],
   "source": [
    "# Problem 9: Write a function cumulative_product to compute cumulative \n",
    "# product of a list of numbers.\n",
    "\n",
    "def cumulative_product(x):\n",
    "    # x is a list of numbers!\n",
    "    n = []\n",
    "    for i in range(1,len(x)+1):\n",
    "        n.append(product(x[:i]))\n",
    "    return n\n",
    "\n",
    "print cumulative_product([1, 2, 3, 4])\n",
    "print cumulative_product([4, 3, 2, 1])"
   ]
  },
  {
   "cell_type": "code",
   "execution_count": 32,
   "metadata": {
    "collapsed": false
   },
   "outputs": [
    {
     "name": "stdout",
     "output_type": "stream",
     "text": [
      "[1, 2, 3, 5]\n"
     ]
    }
   ],
   "source": [
    "# Problem 10: Write a function unique to find all the unique elements \n",
    "# of a list.\n",
    "\n",
    "def unique(x):\n",
    "    # x is a list of numbers!\n",
    "    n = []\n",
    "    for i in x:\n",
    "        if i not in n:\n",
    "            n.append(i)\n",
    "    return n\n",
    "\n",
    "print unique([1, 2, 1, 3, 2, 5])"
   ]
  },
  {
   "cell_type": "code",
   "execution_count": 212,
   "metadata": {
    "collapsed": false
   },
   "outputs": [
    {
     "name": "stdout",
     "output_type": "stream",
     "text": [
      "[1, 2]\n",
      "[1, 2, 4, 6]\n"
     ]
    }
   ],
   "source": [
    "# Problem 11: Write a function dups to find all duplicates in the list.\n",
    "\n",
    "def dups(x):\n",
    "    # x is a list of numbers!\n",
    "    n = []\n",
    "    for i in range(0, len(x)-1):\n",
    "        nl = x[:]\n",
    "        del nl[i]\n",
    "        if x[i] in nl and x[i] not in n:\n",
    "            n.append(x[i])\n",
    "    return n\n",
    "print dups([1, 2, 1, 3, 2, 5])\n",
    "print dups([1, 2, 1, 3, 2, 5, 4, 6, 7, 4, 1, 2, 6])"
   ]
  },
  {
   "cell_type": "code",
   "execution_count": 253,
   "metadata": {
    "collapsed": false
   },
   "outputs": [
    {
     "name": "stdout",
     "output_type": "stream",
     "text": [
      "[[1, 2, 3], [4, 5, 6], [7, 8, 9]]\n",
      "[[1, 2, 3, 4], [5, 6, 7, 8], [9]]\n"
     ]
    }
   ],
   "source": [
    "# Problem 12: Write a function group(list, size) that take a list and \n",
    "# splits into smaller lists of given size.\n",
    "\n",
    "def group(x, size):\n",
    "    # x is a list of numbers!\n",
    "    if len(x)%size == 0:\n",
    "        l = len(x)/size\n",
    "    else:\n",
    "        l = (len(x)/size) + 1\n",
    "    nl = []\n",
    "    for i in range(0, l):\n",
    "        n = x[size*i:size*(i+1)]\n",
    "        nl.append(n)\n",
    "    return nl\n",
    "    \n",
    "print group([1, 2, 3, 4, 5, 6, 7, 8, 9], 3)\n",
    "print group([1, 2, 3, 4, 5, 6, 7, 8, 9], 4)"
   ]
  },
  {
   "cell_type": "code",
   "execution_count": 15,
   "metadata": {
    "collapsed": false
   },
   "outputs": [
    {
     "name": "stdout",
     "output_type": "stream",
     "text": [
      "['c', 'perl', 'java', 'ruby', 'python', 'haskell']\n"
     ]
    }
   ],
   "source": [
    "# Problem 13: Write a function lensort to sort a list of strings based \n",
    "# on length.\n",
    "\n",
    "def lensort(x):\n",
    "    # x is a list of strings!\n",
    "    str_len = [] \n",
    "    for i in x:\n",
    "        str_len.append([i,len(i)]) # add the length with the string in a list\n",
    "    str_len.sort(key = lambda x : x[1]) # sort the list based on the length\n",
    "    sorted_str = []    \n",
    "    for i in str_len:\n",
    "        sorted_str.append(i[0]) # extract the string only\n",
    "    return sorted_str\n",
    "\n",
    "print lensort(['python', 'perl', 'java', 'c', 'haskell', 'ruby'])"
   ]
  },
  {
   "cell_type": "code",
   "execution_count": 26,
   "metadata": {
    "collapsed": false
   },
   "outputs": [
    {
     "name": "stdout",
     "output_type": "stream",
     "text": [
      "['c', 'perl', 'java', 'ruby', 'python', 'haskell']\n"
     ]
    }
   ],
   "source": [
    "# Using the sort key will also work!!\n",
    "x = ['python', 'perl', 'java', 'c', 'haskell', 'ruby']\n",
    "print sorted(x, key=len)"
   ]
  },
  {
   "cell_type": "code",
   "execution_count": 40,
   "metadata": {
    "collapsed": false
   },
   "outputs": [
    {
     "name": "stdout",
     "output_type": "stream",
     "text": [
      "['python', 'java', 'Python', 'Java']\n",
      "['python', 'java']\n",
      "['Apple', 'Samsung', 'apple', 'samsung']\n",
      "['apple', 'samsung']\n"
     ]
    }
   ],
   "source": [
    "# Problem 14: Improve the unique function written in previous problems to take \n",
    "# an optional key function as argument and use the return value of the key function \n",
    "# to check for uniqueness.\n",
    "\n",
    "def unique1(x):\n",
    "    # x is a list of numbers!\n",
    "    str_lower = []\n",
    "    for i in x:\n",
    "        str_lower.append([i,i.lower()])\n",
    "    uni_list = []\n",
    "    for i in [y[1] for y in str_lower]:\n",
    "         if i not in uni_list:\n",
    "            uni_list.append(i)\n",
    "    return uni_list\n",
    "\n",
    "print unique([\"python\", \"java\", \"Python\", \"Java\"])\n",
    "print unique1([\"python\", \"java\", \"Python\", \"Java\"])\n",
    "\n",
    "print unique([\"Apple\", \"Samsung\", \"apple\", \"samsung\"])\n",
    "print unique1([\"APPle\", \"SamSung\", \"Apple\", \"Samsung\"])"
   ]
  },
  {
   "cell_type": "code",
   "execution_count": 41,
   "metadata": {
    "collapsed": false
   },
   "outputs": [
    {
     "name": "stdout",
     "output_type": "stream",
     "text": [
      "['python', 'java']\n",
      "['apple', 'samsung']\n"
     ]
    }
   ],
   "source": [
    "# Or just convert the list into lower case and find the unique\n",
    "\n",
    "def unique2(x):\n",
    "    # x is a list of numbers!\n",
    "    str_lower = []\n",
    "    for i in x:\n",
    "        str_lower.append(i.lower())\n",
    "    uni_list = []\n",
    "    for i in str_lower:\n",
    "         if i not in uni_list:\n",
    "            uni_list.append(i)\n",
    "    return uni_list\n",
    "\n",
    "print unique2([\"python\", \"java\", \"Python\", \"Java\"])\n",
    "print unique2([\"APPle\", \"SamSung\", \"Apple\", \"Samsung\"])"
   ]
  },
  {
   "cell_type": "code",
   "execution_count": 64,
   "metadata": {
    "collapsed": false
   },
   "outputs": [
    {
     "name": "stdout",
     "output_type": "stream",
     "text": [
      "['Apple', 'Samsung', 'apple', 'samsung']\n",
      "['apple', 'samsung']\n"
     ]
    }
   ],
   "source": [
    "# adding a key argument into the function\n",
    "\n",
    "def unique3(x, key=None):\n",
    "    # x is a list of numbers!\n",
    "    uni_list = []\n",
    "    for i in x:\n",
    "        if key == None:\n",
    "            if i not in uni_list:\n",
    "                uni_list.append(i)            \n",
    "        else:\n",
    "            i2 = key(i)\n",
    "            if i2 not in uni_list:\n",
    "                uni_list.append(i2)                 \n",
    "    return uni_list\n",
    "\n",
    "print unique3([\"Apple\", \"Samsung\", \"apple\", \"samsung\"])\n",
    "print unique3([\"APPle\", \"SamSung\", \"Apple\", \"Samsung\"], key=lambda s: s.lower())"
   ]
  },
  {
   "cell_type": "code",
   "execution_count": 83,
   "metadata": {
    "collapsed": false
   },
   "outputs": [
    {
     "name": "stdout",
     "output_type": "stream",
     "text": [
      "['samsung', 'apple', 'Apple', 'Samsung']\n",
      "['apple', 'samsung']\n"
     ]
    }
   ],
   "source": [
    "# Problem 15: Reimplement the unique function implemented in the earlier \n",
    "# examples using sets.\n",
    "\n",
    "def unique4(x, key=None):\n",
    "    # x is a list of string!\n",
    "    if key == None:\n",
    "        uni_list = list(set(x))         \n",
    "    else:\n",
    "        x2 = map(lambda s:s.lower(), x)\n",
    "        uni_list = list(set(x2))                \n",
    "    return uni_list    \n",
    "\n",
    "print unique4([\"Apple\", \"Samsung\", \"apple\", \"samsung\"])\n",
    "print unique4([\"APPle\", \"SamSung\", \"Apple\", \"Samsung\"], key=lambda s: s.lower())"
   ]
  },
  {
   "cell_type": "code",
   "execution_count": 96,
   "metadata": {
    "collapsed": false
   },
   "outputs": [
    {
     "name": "stdout",
     "output_type": "stream",
     "text": [
      "['a.c', 'x.c', 'a.py', 'b.py', 'bar.txt', 'foo.txt']\n"
     ]
    }
   ],
   "source": [
    "# Problem 16: Write a function extsort to sort a list of files based on extension.\n",
    "\n",
    "def extsort(x):\n",
    "    # x is a list of files!\n",
    "    file_list = []\n",
    "    for i in x:\n",
    "        file_list.append(i.split('.'))\n",
    "    file_list.sort(key = lambda x: x[1]) # sort based on the file type\n",
    "    sorted_file = []\n",
    "    for i in file_list:\n",
    "        sorted_file.append('%s.%s' %(i[0], i[1]))    \n",
    "    return sorted_file\n",
    "\n",
    "print extsort(['a.c', 'a.py', 'b.py', 'bar.txt', 'foo.txt', 'x.c'])"
   ]
  },
  {
   "cell_type": "code",
   "execution_count": 5,
   "metadata": {
    "collapsed": false
   },
   "outputs": [
    {
     "name": "stdout",
     "output_type": "stream",
     "text": [
      "I'm sure that the shells are seashore shells.\n",
      "So if she sells seashells on the seashore,\n",
      "The shells that she sells are seashells I'm sure.\n",
      "She sells seashells on the seashore;\n"
     ]
    }
   ],
   "source": [
    "# Problem 17: Write a program reverse.py to print lines of a file \n",
    "# in reverse order.\n",
    "f = open('she.txt', 'r')\n",
    "lines = f.readlines()\n",
    "for i in range(1, len(lines)+1):\n",
    "    print lines[-i].rstrip()"
   ]
  },
  {
   "cell_type": "code",
   "execution_count": 6,
   "metadata": {
    "collapsed": false
   },
   "outputs": [
    {
     "name": "stdout",
     "output_type": "stream",
     "text": [
      "Overwriting reverse.py\n"
     ]
    }
   ],
   "source": [
    "%%writefile reverse.py\n",
    "import sys\n",
    "f = open(str(sys.argv[1]), 'r')\n",
    "lines = f.readlines()\n",
    "for i in range(1, len(lines)+1):\n",
    "    print lines[-i].rstrip()"
   ]
  },
  {
   "cell_type": "code",
   "execution_count": 7,
   "metadata": {
    "collapsed": false,
    "scrolled": true
   },
   "outputs": [
    {
     "name": "stdout",
     "output_type": "stream",
     "text": [
      "I'm sure that the shells are seashore shells.\n",
      "So if she sells seashells on the seashore,\n",
      "The shells that she sells are seashells I'm sure.\n",
      "She sells seashells on the seashore;\n"
     ]
    }
   ],
   "source": [
    "% run reverse.py she.txt"
   ]
  },
  {
   "cell_type": "code",
   "execution_count": 23,
   "metadata": {
    "collapsed": false,
    "scrolled": true
   },
   "outputs": [
    {
     "name": "stdout",
     "output_type": "stream",
     "text": [
      "\n",
      ";erohsaes eht no sllehsaes slles ehS\n",
      "\n",
      ".erus m'I sllehsaes era slles ehs taht sllehs ehT\n",
      "\n",
      ",erohsaes eht no sllehsaes slles ehs fi oS\n",
      "\n",
      ".sllehs erohsaes era sllehs eht taht erus m'I\n"
     ]
    }
   ],
   "source": [
    "# Problem 18: Write a program to print each line of a file in reverse order.\n",
    "\n",
    "f = open('she.txt', 'r')\n",
    "line = f.readline()\n",
    "print line[::-1]\n",
    "line = f.readline()\n",
    "print line[::-1]\n",
    "line = f.readline()\n",
    "print line[::-1]\n",
    "line = f.readline()\n",
    "print line[::-1]"
   ]
  },
  {
   "cell_type": "code",
   "execution_count": 24,
   "metadata": {
    "collapsed": false
   },
   "outputs": [
    {
     "name": "stdout",
     "output_type": "stream",
     "text": [
      "Writing lreverse.py\n"
     ]
    }
   ],
   "source": [
    "%%writefile lreverse.py\n",
    "\n",
    "import sys\n",
    "f = open(str(sys.argv[1]), 'r')\n",
    "line = f.readline()\n",
    "print line[::-1]\n",
    "line = f.readline()\n",
    "print line[::-1]\n",
    "line = f.readline()\n",
    "print line[::-1]\n",
    "line = f.readline()\n",
    "print line[::-1]"
   ]
  },
  {
   "cell_type": "code",
   "execution_count": 26,
   "metadata": {
    "collapsed": false,
    "scrolled": true
   },
   "outputs": [
    {
     "name": "stdout",
     "output_type": "stream",
     "text": [
      "\n",
      ";erohsaes eht no sllehsaes slles ehS\n",
      "\n",
      ".erus m'I sllehsaes era slles ehs taht sllehs ehT\n",
      "\n",
      ",erohsaes eht no sllehsaes slles ehs fi oS\n",
      "\n",
      ".sllehs erohsaes era sllehs eht taht erus m'I\n"
     ]
    }
   ],
   "source": [
    "% run lreverse.py she.txt"
   ]
  },
  {
   "cell_type": "code",
   "execution_count": 34,
   "metadata": {
    "collapsed": false
   },
   "outputs": [
    {
     "name": "stdout",
     "output_type": "stream",
     "text": [
      "If I could catch a rainbow,\n",
      "\n",
      "I'd do it, just for you,\n",
      "\n",
      "And share with you it's beauty,\n",
      "\n",
      "On days when you feel blue.\n",
      "\n",
      "\n",
      "\n",
      "If I could, I'd build a mountain,\n",
      "\n",
      "You could call your very own,\n",
      "\n",
      "A place to find serenity,\n",
      "\n",
      "A place to be alone.\n",
      "\n",
      "\n",
      "\n"
     ]
    }
   ],
   "source": [
    "# Problem 19: Implement unix commands head and tail. The head and tail \n",
    "# commands take a file as argument and prints its first and last 10 \n",
    "# lines of the file respectively.\n",
    "\n",
    "p = open('poem.txt', 'r')\n",
    "line = p.readlines()\n",
    "for i in range(0,10):\n",
    "    print line[i]"
   ]
  },
  {
   "cell_type": "code",
   "execution_count": null,
   "metadata": {
    "collapsed": true
   },
   "outputs": [],
   "source": []
  }
 ],
 "metadata": {
  "kernelspec": {
   "display_name": "Python 2",
   "language": "python",
   "name": "python2"
  },
  "language_info": {
   "codemirror_mode": {
    "name": "ipython",
    "version": 2
   },
   "file_extension": ".py",
   "mimetype": "text/x-python",
   "name": "python",
   "nbconvert_exporter": "python",
   "pygments_lexer": "ipython2",
   "version": "2.7.12"
  }
 },
 "nbformat": 4,
 "nbformat_minor": 0
}
