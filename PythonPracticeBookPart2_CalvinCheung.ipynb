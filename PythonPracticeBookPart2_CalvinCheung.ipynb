{
 "cells": [
  {
   "cell_type": "markdown",
   "metadata": {},
   "source": [
    "# Python Practice Book\n",
    "\n",
    "website: http://anandology.com/python-practice-book/getting-started.html\n",
    "\n",
    "### 2 Working with Data: \n",
    "\n",
    "2.1. Lists\n",
    "2.2. Tuples\n",
    "2.3. Sets\n",
    "2.4. Strings\n",
    "2.5. Working With Files\n",
    "2.6. List Comprehensions\n",
    "2.7. Dictionaries"
   ]
  },
  {
   "cell_type": "code",
   "execution_count": 1,
   "metadata": {
    "collapsed": false
   },
   "outputs": [
    {
     "name": "stdout",
     "output_type": "stream",
     "text": [
      "[0, 1, [3]]\n",
      "[0, 1, [3, 4]]\n",
      "[0, 1, 2]\n"
     ]
    }
   ],
   "source": [
    "# Problem 1: What will be the output of the following program?\n",
    "x = [0, 1, [2]]\n",
    "x[2][0] = 3\n",
    "print x\n",
    "x[2].append(4)\n",
    "print x\n",
    "x[2] = 2\n",
    "print x\n",
    "# x[2] is a list inside the list - x"
   ]
  },
  {
   "cell_type": "code",
   "execution_count": 2,
   "metadata": {
    "collapsed": false
   },
   "outputs": [
    {
     "data": {
      "text/plain": [
       "[('a', 1), ('b', 2), ('c', 3)]"
      ]
     },
     "execution_count": 2,
     "metadata": {},
     "output_type": "execute_result"
    }
   ],
   "source": [
    "zip([\"a\", \"b\", \"c\"], [1, 2, 3])"
   ]
  },
  {
   "cell_type": "code",
   "execution_count": 3,
   "metadata": {
    "collapsed": false
   },
   "outputs": [
    {
     "data": {
      "text/plain": [
       "6"
      ]
     },
     "execution_count": 3,
     "metadata": {},
     "output_type": "execute_result"
    }
   ],
   "source": [
    "# Problem 2: Python has a built-in function sum to find sum of \n",
    "# all elements of a list. \n",
    "# Provide an implementation for sum.\n",
    "\n",
    "sum([1, 2, 3])\n",
    "# sum only use for list of numbers"
   ]
  },
  {
   "cell_type": "code",
   "execution_count": 4,
   "metadata": {
    "collapsed": false
   },
   "outputs": [],
   "source": [
    "# Problem 3: What happens when the above sum function is called with a \n",
    "# list of strings? Can you make your sum function work for a list of \n",
    "# strings as well.\n",
    "# sum([\"hello\", \"world\"])\n",
    "# sum([\"aa\", \"bb\", \"cc\"])"
   ]
  },
  {
   "cell_type": "code",
   "execution_count": 5,
   "metadata": {
    "collapsed": false
   },
   "outputs": [
    {
     "name": "stdout",
     "output_type": "stream",
     "text": [
      "helloworld\n",
      "aabbcc\n"
     ]
    }
   ],
   "source": [
    "# Answer_1 of problem 3:\n",
    "def sum1(x):\n",
    "    # x is a list!\n",
    "    p = ''\n",
    "    for i in x:\n",
    "        p = p + i\n",
    "    return p\n",
    "print sum1([\"hello\", \"world\"])\n",
    "print sum1([\"aa\", \"bb\", \"cc\"])"
   ]
  },
  {
   "cell_type": "code",
   "execution_count": 6,
   "metadata": {
    "collapsed": false,
    "scrolled": true
   },
   "outputs": [
    {
     "name": "stdout",
     "output_type": "stream",
     "text": [
      "helloworld\n",
      "aabbcc\n"
     ]
    }
   ],
   "source": [
    "# Answer_2 of problem 3:\n",
    "def sum2(x):\n",
    "    # x is a list of string\n",
    "    return \"\".join(x)\n",
    "print sum2([\"hello\", \"world\"])\n",
    "print sum2([\"aa\", \"bb\", \"cc\"])"
   ]
  },
  {
   "cell_type": "code",
   "execution_count": 7,
   "metadata": {
    "collapsed": false
   },
   "outputs": [
    {
     "name": "stdout",
     "output_type": "stream",
     "text": [
      "6\n"
     ]
    }
   ],
   "source": [
    "# Problem 4: Implement a function product, to compute product of a list \n",
    "# of numbers.\n",
    "def product(x):\n",
    "    # x is a list of numbers\n",
    "    p = 1\n",
    "    for i in x:\n",
    "        p *= i\n",
    "    return p\n",
    "print product([1, 2, 3])"
   ]
  },
  {
   "cell_type": "code",
   "execution_count": 8,
   "metadata": {
    "collapsed": false
   },
   "outputs": [
    {
     "name": "stdout",
     "output_type": "stream",
     "text": [
      "24\n"
     ]
    }
   ],
   "source": [
    "# Problem 5: Write a function factorial to compute factorial of a number. \n",
    "# Can you use the product function defined in the previous example to \n",
    "# compute factorial?\n",
    "def factorial(x):\n",
    "    list_x = range(x+1)\n",
    "    factorial_x = product(list_x[1:])\n",
    "    return factorial_x\n",
    "print factorial(4)"
   ]
  },
  {
   "cell_type": "code",
   "execution_count": 9,
   "metadata": {
    "collapsed": false
   },
   "outputs": [
    {
     "name": "stdout",
     "output_type": "stream",
     "text": [
      "[4, 3, 2, 1]\n",
      "[1, 2, 3, 4]\n"
     ]
    }
   ],
   "source": [
    "# Problem 6: Write a function reverse to reverse a list. \n",
    "# Can you do this without using list slicing?\n",
    "\n",
    "def reverse(x):\n",
    "    # x is a list!\n",
    "    n = []\n",
    "    for i in range(1,len(x)+1):\n",
    "        n.append(x[-i])\n",
    "    return n\n",
    "\n",
    "print reverse([1, 2, 3, 4])\n",
    "print reverse(reverse([1, 2, 3, 4]))"
   ]
  },
  {
   "cell_type": "code",
   "execution_count": 10,
   "metadata": {
    "collapsed": false
   },
   "outputs": [
    {
     "data": {
      "text/plain": [
       "[4, 3, 2, 1]"
      ]
     },
     "execution_count": 10,
     "metadata": {},
     "output_type": "execute_result"
    }
   ],
   "source": [
    "# Reverse using list slicing\n",
    "a = [1, 2, 3, 4]\n",
    "a[::-1]"
   ]
  },
  {
   "cell_type": "code",
   "execution_count": 11,
   "metadata": {
    "collapsed": false
   },
   "outputs": [
    {
     "name": "stdout",
     "output_type": "stream",
     "text": [
      "aa\n",
      "data\n",
      "12345\n",
      "a1b2c3\n"
     ]
    }
   ],
   "source": [
    "# Problem 7: Python has built-in functions min and max to compute minimum \n",
    "# and maximum of a given list. Provide an implementation for these \n",
    "# functions. What happens when you call your min and max functions \n",
    "# with a list of strings?\n",
    "\n",
    "list_1 = ['data', 'apple', 'boy', 'cat', 'aa']\n",
    "print min(list_1)\n",
    "print max(list_1)\n",
    "# use alphabetical order of the first string\n",
    "\n",
    "list_2 = ['54321', '99', '12345', '34', 'a1b2c3']\n",
    "print min(list_2)\n",
    "print max(list_2)\n",
    "# for number string, use the value of the first string, note that 99 is \n",
    "# smaller than 12345 in number"
   ]
  },
  {
   "cell_type": "code",
   "execution_count": 12,
   "metadata": {
    "collapsed": false
   },
   "outputs": [
    {
     "name": "stdout",
     "output_type": "stream",
     "text": [
      "[1, 3, 6, 10]\n",
      "[4, 7, 9, 10]\n",
      "['a', 'ab', 'abc', 'abcd']\n"
     ]
    }
   ],
   "source": [
    "# Problem 8: Cumulative sum of a list [a, b, c, ...] is defined \n",
    "# as [a, a+b, a+b+c, ...]. Write a function cumulative_sum to compute \n",
    "# cumulative sum of a list. Does your implementation work for a list of \n",
    "# strings?\n",
    "\n",
    "def cumulative_sum(x):\n",
    "    # x is either a list of int or a list of str!\n",
    "    n = []\n",
    "    for i in range(1,len(x)+1):\n",
    "        if type(x[0]) == int:\n",
    "            n.append(sum(x[:i]))\n",
    "        elif type(x[0]) == str:\n",
    "            n.append(sum1(x[:i]))\n",
    "        else:\n",
    "            print 'it only works for int and str!'\n",
    "    return n\n",
    "\n",
    "print cumulative_sum([1, 2, 3, 4])\n",
    "print cumulative_sum([4, 3, 2, 1])\n",
    "print cumulative_sum(['a', 'b', 'c', 'd'])"
   ]
  },
  {
   "cell_type": "code",
   "execution_count": 13,
   "metadata": {
    "collapsed": false
   },
   "outputs": [
    {
     "name": "stdout",
     "output_type": "stream",
     "text": [
      "[1, 2, 6, 24]\n",
      "[4, 12, 24, 24]\n"
     ]
    }
   ],
   "source": [
    "# Problem 9: Write a function cumulative_product to compute cumulative \n",
    "# product of a list of numbers.\n",
    "\n",
    "def cumulative_product(x):\n",
    "    # x is a list of numbers!\n",
    "    n = []\n",
    "    for i in range(1,len(x)+1):\n",
    "        n.append(product(x[:i]))\n",
    "    return n\n",
    "\n",
    "print cumulative_product([1, 2, 3, 4])\n",
    "print cumulative_product([4, 3, 2, 1])"
   ]
  },
  {
   "cell_type": "code",
   "execution_count": 14,
   "metadata": {
    "collapsed": false
   },
   "outputs": [
    {
     "name": "stdout",
     "output_type": "stream",
     "text": [
      "[1, 2, 3, 5]\n"
     ]
    }
   ],
   "source": [
    "# Problem 10: Write a function unique to find all the unique elements \n",
    "# of a list.\n",
    "\n",
    "def unique(x):\n",
    "    # x is a list of numbers!\n",
    "    n = []\n",
    "    for i in x:\n",
    "        if i not in n:\n",
    "            n.append(i)\n",
    "    return n\n",
    "\n",
    "print unique([1, 2, 1, 3, 2, 5])"
   ]
  },
  {
   "cell_type": "code",
   "execution_count": 15,
   "metadata": {
    "collapsed": false
   },
   "outputs": [
    {
     "name": "stdout",
     "output_type": "stream",
     "text": [
      "[1, 2]\n",
      "[1, 2, 4, 6]\n"
     ]
    }
   ],
   "source": [
    "# Problem 11: Write a function dups to find all duplicates in the list.\n",
    "\n",
    "def dups(x):\n",
    "    # x is a list of numbers!\n",
    "    n = []\n",
    "    for i in range(0, len(x)-1):\n",
    "        nl = x[:]\n",
    "        del nl[i]\n",
    "        if x[i] in nl and x[i] not in n:\n",
    "            n.append(x[i])\n",
    "    return n\n",
    "print dups([1, 2, 1, 3, 2, 5])\n",
    "print dups([1, 2, 1, 3, 2, 5, 4, 6, 7, 4, 1, 2, 6])"
   ]
  },
  {
   "cell_type": "code",
   "execution_count": 16,
   "metadata": {
    "collapsed": false
   },
   "outputs": [
    {
     "name": "stdout",
     "output_type": "stream",
     "text": [
      "[[1, 2, 3], [4, 5, 6], [7, 8, 9]]\n",
      "[[1, 2, 3, 4], [5, 6, 7, 8], [9]]\n"
     ]
    }
   ],
   "source": [
    "# Problem 12: Write a function group(list, size) that take a list and \n",
    "# splits into smaller lists of given size.\n",
    "\n",
    "def group(x, size):\n",
    "    # x is a list of numbers!\n",
    "    if len(x)%size == 0:\n",
    "        l = len(x)/size\n",
    "    else:\n",
    "        l = (len(x)/size) + 1\n",
    "    nl = []\n",
    "    for i in range(0, l):\n",
    "        n = x[size*i:size*(i+1)]\n",
    "        nl.append(n)\n",
    "    return nl\n",
    "    \n",
    "print group([1, 2, 3, 4, 5, 6, 7, 8, 9], 3)\n",
    "print group([1, 2, 3, 4, 5, 6, 7, 8, 9], 4)"
   ]
  },
  {
   "cell_type": "code",
   "execution_count": 17,
   "metadata": {
    "collapsed": false
   },
   "outputs": [
    {
     "name": "stdout",
     "output_type": "stream",
     "text": [
      "['c', 'perl', 'java', 'ruby', 'python', 'haskell']\n"
     ]
    }
   ],
   "source": [
    "# Problem 13: Write a function lensort to sort a list of strings based \n",
    "# on length.\n",
    "\n",
    "def lensort(x):\n",
    "    # x is a list of strings!\n",
    "    str_len = [] \n",
    "    for i in x:\n",
    "        str_len.append([i,len(i)]) # add the length with the string in a list\n",
    "    str_len.sort(key = lambda x : x[1]) # sort the list based on the length\n",
    "    sorted_str = []    \n",
    "    for i in str_len:\n",
    "        sorted_str.append(i[0]) # extract the string only\n",
    "    return sorted_str\n",
    "\n",
    "print lensort(['python', 'perl', 'java', 'c', 'haskell', 'ruby'])"
   ]
  },
  {
   "cell_type": "code",
   "execution_count": 18,
   "metadata": {
    "collapsed": false
   },
   "outputs": [
    {
     "name": "stdout",
     "output_type": "stream",
     "text": [
      "['c', 'perl', 'java', 'ruby', 'python', 'haskell']\n"
     ]
    }
   ],
   "source": [
    "# Using the sort key will also work!!\n",
    "x = ['python', 'perl', 'java', 'c', 'haskell', 'ruby']\n",
    "print sorted(x, key=len)"
   ]
  },
  {
   "cell_type": "code",
   "execution_count": 19,
   "metadata": {
    "collapsed": false
   },
   "outputs": [
    {
     "name": "stdout",
     "output_type": "stream",
     "text": [
      "['python', 'java', 'Python', 'Java']\n",
      "['python', 'java']\n",
      "['Apple', 'Samsung', 'apple', 'samsung']\n",
      "['apple', 'samsung']\n"
     ]
    }
   ],
   "source": [
    "# Problem 14: Improve the unique function written in previous problems to take \n",
    "# an optional key function as argument and use the return value of the key function \n",
    "# to check for uniqueness.\n",
    "\n",
    "def unique1(x):\n",
    "    # x is a list of numbers!\n",
    "    str_lower = []\n",
    "    for i in x:\n",
    "        str_lower.append([i,i.lower()])\n",
    "    uni_list = []\n",
    "    for i in [y[1] for y in str_lower]:\n",
    "         if i not in uni_list:\n",
    "            uni_list.append(i)\n",
    "    return uni_list\n",
    "\n",
    "print unique([\"python\", \"java\", \"Python\", \"Java\"])\n",
    "print unique1([\"python\", \"java\", \"Python\", \"Java\"])\n",
    "\n",
    "print unique([\"Apple\", \"Samsung\", \"apple\", \"samsung\"])\n",
    "print unique1([\"APPle\", \"SamSung\", \"Apple\", \"Samsung\"])"
   ]
  },
  {
   "cell_type": "code",
   "execution_count": 20,
   "metadata": {
    "collapsed": false
   },
   "outputs": [
    {
     "name": "stdout",
     "output_type": "stream",
     "text": [
      "['python', 'java']\n",
      "['apple', 'samsung']\n"
     ]
    }
   ],
   "source": [
    "# Or just convert the list into lower case and find the unique\n",
    "\n",
    "def unique2(x):\n",
    "    # x is a list of numbers!\n",
    "    str_lower = []\n",
    "    for i in x:\n",
    "        str_lower.append(i.lower())\n",
    "    uni_list = []\n",
    "    for i in str_lower:\n",
    "         if i not in uni_list:\n",
    "            uni_list.append(i)\n",
    "    return uni_list\n",
    "\n",
    "print unique2([\"python\", \"java\", \"Python\", \"Java\"])\n",
    "print unique2([\"APPle\", \"SamSung\", \"Apple\", \"Samsung\"])"
   ]
  },
  {
   "cell_type": "code",
   "execution_count": 21,
   "metadata": {
    "collapsed": false
   },
   "outputs": [
    {
     "name": "stdout",
     "output_type": "stream",
     "text": [
      "['Apple', 'Samsung', 'apple', 'samsung']\n",
      "['apple', 'samsung']\n"
     ]
    }
   ],
   "source": [
    "# adding a key argument into the function\n",
    "\n",
    "def unique3(x, key=None):\n",
    "    # x is a list of numbers!\n",
    "    uni_list = []\n",
    "    for i in x:\n",
    "        if key == None:\n",
    "            if i not in uni_list:\n",
    "                uni_list.append(i)            \n",
    "        else:\n",
    "            i2 = key(i)\n",
    "            if i2 not in uni_list:\n",
    "                uni_list.append(i2)                 \n",
    "    return uni_list\n",
    "\n",
    "print unique3([\"Apple\", \"Samsung\", \"apple\", \"samsung\"])\n",
    "print unique3([\"APPle\", \"SamSung\", \"Apple\", \"Samsung\"], key=lambda s: s.lower())"
   ]
  },
  {
   "cell_type": "code",
   "execution_count": 22,
   "metadata": {
    "collapsed": false
   },
   "outputs": [
    {
     "name": "stdout",
     "output_type": "stream",
     "text": [
      "['samsung', 'apple', 'Apple', 'Samsung']\n",
      "['apple', 'samsung']\n"
     ]
    }
   ],
   "source": [
    "# Problem 15: Reimplement the unique function implemented in the earlier \n",
    "# examples using sets.\n",
    "\n",
    "def unique4(x, key=None):\n",
    "    # x is a list of string!\n",
    "    if key == None:\n",
    "        uni_list = list(set(x))         \n",
    "    else:\n",
    "        x2 = map(lambda s:s.lower(), x)\n",
    "        uni_list = list(set(x2))                \n",
    "    return uni_list    \n",
    "\n",
    "print unique4([\"Apple\", \"Samsung\", \"apple\", \"samsung\"])\n",
    "print unique4([\"APPle\", \"SamSung\", \"Apple\", \"Samsung\"], key=lambda s: s.lower())"
   ]
  },
  {
   "cell_type": "code",
   "execution_count": 23,
   "metadata": {
    "collapsed": false
   },
   "outputs": [
    {
     "name": "stdout",
     "output_type": "stream",
     "text": [
      "['a.c', 'x.c', 'a.py', 'b.py', 'bar.txt', 'foo.txt']\n"
     ]
    }
   ],
   "source": [
    "# Problem 16: Write a function extsort to sort a list of files based on extension.\n",
    "\n",
    "def extsort(x):\n",
    "    # x is a list of files!\n",
    "    file_list = []\n",
    "    for i in x:\n",
    "        file_list.append(i.split('.'))\n",
    "    file_list.sort(key = lambda x: x[1]) # sort based on the file type\n",
    "    sorted_file = []\n",
    "    for i in file_list:\n",
    "        sorted_file.append('%s.%s' %(i[0], i[1]))    \n",
    "    return sorted_file\n",
    "\n",
    "print extsort(['a.c', 'a.py', 'b.py', 'bar.txt', 'foo.txt', 'x.c'])"
   ]
  },
  {
   "cell_type": "code",
   "execution_count": 24,
   "metadata": {
    "collapsed": false
   },
   "outputs": [
    {
     "name": "stdout",
     "output_type": "stream",
     "text": [
      "I'm sure that the shells are seashore shells.\n",
      "So if she sells seashells on the seashore,\n",
      "The shells that she sells are seashells I'm sure.\n",
      "She sells seashells on the seashore;\n"
     ]
    }
   ],
   "source": [
    "# Problem 17: Write a program reverse.py to print lines of a file \n",
    "# in reverse order.\n",
    "f = open('she.txt', 'r')\n",
    "lines = f.readlines()\n",
    "for i in range(1, len(lines)+1):\n",
    "    print lines[-i].rstrip()"
   ]
  },
  {
   "cell_type": "code",
   "execution_count": 25,
   "metadata": {
    "collapsed": false
   },
   "outputs": [
    {
     "name": "stdout",
     "output_type": "stream",
     "text": [
      "Overwriting reverse.py\n"
     ]
    }
   ],
   "source": [
    "%%writefile reverse.py\n",
    "import sys\n",
    "f = open(str(sys.argv[1]), 'r')\n",
    "lines = f.readlines()\n",
    "for i in range(1, len(lines)+1):\n",
    "    print lines[-i].rstrip()"
   ]
  },
  {
   "cell_type": "code",
   "execution_count": 26,
   "metadata": {
    "collapsed": false,
    "scrolled": true
   },
   "outputs": [
    {
     "name": "stdout",
     "output_type": "stream",
     "text": [
      "I'm sure that the shells are seashore shells.\n",
      "So if she sells seashells on the seashore,\n",
      "The shells that she sells are seashells I'm sure.\n",
      "She sells seashells on the seashore;\n"
     ]
    }
   ],
   "source": [
    "% run reverse.py she.txt"
   ]
  },
  {
   "cell_type": "code",
   "execution_count": 27,
   "metadata": {
    "collapsed": false,
    "scrolled": true
   },
   "outputs": [
    {
     "name": "stdout",
     "output_type": "stream",
     "text": [
      "\n",
      ";erohsaes eht no sllehsaes slles ehS\n",
      "\n",
      ".erus m'I sllehsaes era slles ehs taht sllehs ehT\n",
      "\n",
      ",erohsaes eht no sllehsaes slles ehs fi oS\n",
      "\n",
      ".sllehs erohsaes era sllehs eht taht erus m'I\n"
     ]
    }
   ],
   "source": [
    "# Problem 18: Write a program to print each line of a file in reverse \n",
    "# order.\n",
    "repeat_times = sum(1 for line in open('she.txt'))\n",
    "f = open('she.txt', 'r')\n",
    "while repeat_times > 0:\n",
    "    line = f.readline()\n",
    "    print line[::-1]\n",
    "    repeat_times -=1"
   ]
  },
  {
   "cell_type": "code",
   "execution_count": 28,
   "metadata": {
    "collapsed": false
   },
   "outputs": [
    {
     "name": "stdout",
     "output_type": "stream",
     "text": [
      "\n",
      ";erohsaes eht no sllehsaes slles ehS\n",
      "\n",
      ".erus m'I sllehsaes era slles ehs taht sllehs ehT\n",
      "\n",
      ",erohsaes eht no sllehsaes slles ehs fi oS\n",
      "\n",
      ".sllehs erohsaes era sllehs eht taht erus m'I\n"
     ]
    }
   ],
   "source": [
    "f = open('she.txt', 'r')\n",
    "lines = f.readlines()\n",
    "for line in lines:\n",
    "    print line[::-1]"
   ]
  },
  {
   "cell_type": "code",
   "execution_count": 29,
   "metadata": {
    "collapsed": false
   },
   "outputs": [
    {
     "data": {
      "text/plain": [
       "\"I'm sure that the shells are seashore shells.\\n\""
      ]
     },
     "execution_count": 29,
     "metadata": {},
     "output_type": "execute_result"
    }
   ],
   "source": [
    "line"
   ]
  },
  {
   "cell_type": "code",
   "execution_count": 30,
   "metadata": {
    "collapsed": false
   },
   "outputs": [
    {
     "name": "stdout",
     "output_type": "stream",
     "text": [
      "Overwriting lreverse.py\n"
     ]
    }
   ],
   "source": [
    "%%writefile lreverse.py\n",
    "import sys\n",
    "repeat_times = sum(1 for line in open(str(sys.argv[1])))\n",
    "f = open(str(sys.argv[1]), 'r')\n",
    "while repeat_times > 0:\n",
    "    line = f.readline()\n",
    "    print line[::-1]\n",
    "    repeat_times -=1"
   ]
  },
  {
   "cell_type": "code",
   "execution_count": 31,
   "metadata": {
    "collapsed": false
   },
   "outputs": [
    {
     "name": "stdout",
     "output_type": "stream",
     "text": [
      "\n",
      ";erohsaes eht no sllehsaes slles ehS\n",
      "\n",
      ".erus m'I sllehsaes era slles ehs taht sllehs ehT\n",
      "\n",
      ",erohsaes eht no sllehsaes slles ehs fi oS\n",
      "\n",
      ".sllehs erohsaes era sllehs eht taht erus m'I\n"
     ]
    }
   ],
   "source": [
    "% run lreverse.py she.txt"
   ]
  },
  {
   "cell_type": "code",
   "execution_count": 32,
   "metadata": {
    "collapsed": false
   },
   "outputs": [
    {
     "name": "stdout",
     "output_type": "stream",
     "text": [
      "If I could catch a rainbow,\n",
      "\n",
      "I'd do it, just for you,\n",
      "\n",
      "And share with you it's beauty,\n",
      "\n",
      "On days when you feel blue.\n",
      "\n",
      "\n",
      "\n",
      "If I could, I'd build a mountain,\n",
      "\n",
      "You could call your very own,\n",
      "\n",
      "A place to find serenity,\n",
      "\n",
      "A place to be alone.\n",
      "\n",
      "\n",
      "\n",
      "\n",
      "\n",
      "If I could take you troubles,\n",
      "\n",
      "I would toss them in the sea,\n",
      "\n",
      "But all these things, I'm finding,\n",
      "\n",
      "Are impossible to me.\n",
      "\n",
      "\n",
      "\n",
      "I cannot build a mountain,\n",
      "\n",
      "Or catch a rainbow fair,\n",
      "\n",
      "But let me be what I do best,\n",
      "\n",
      "A friend who's always there.\n"
     ]
    }
   ],
   "source": [
    "# Problem 19: Implement unix commands head and tail. The head and tail \n",
    "# commands take a file as argument and prints its first and last 10 \n",
    "# lines of the file respectively.\n",
    "\n",
    "p = open('poem.txt', 'r')\n",
    "line = p.readlines()\n",
    "l = len(line)\n",
    "\n",
    "# head\n",
    "if l < 10:\n",
    "    end = l\n",
    "else:\n",
    "    end = 10\n",
    "for i in range(0,end):\n",
    "    print line[i]\n",
    "    \n",
    "# tail\n",
    "if l < 10:\n",
    "    start = 0\n",
    "else:\n",
    "    start = l-10\n",
    "for i in range(start, l):\n",
    "    print line[i]\n",
    "    "
   ]
  },
  {
   "cell_type": "code",
   "execution_count": 33,
   "metadata": {
    "collapsed": false
   },
   "outputs": [
    {
     "name": "stdout",
     "output_type": "stream",
     "text": [
      "Overwriting head.py\n"
     ]
    }
   ],
   "source": [
    "%%writefile head.py\n",
    "import sys\n",
    "p = open(str(sys.argv[1]), 'r')\n",
    "line = p.readlines()\n",
    "l = len(line)\n",
    "if l < 10:\n",
    "    end = l\n",
    "else:\n",
    "    end = 10\n",
    "for i in range(0,end):\n",
    "    print line[i]"
   ]
  },
  {
   "cell_type": "code",
   "execution_count": 34,
   "metadata": {
    "collapsed": false
   },
   "outputs": [
    {
     "name": "stdout",
     "output_type": "stream",
     "text": [
      "If I could catch a rainbow,\n",
      "\n",
      "I'd do it, just for you,\n",
      "\n",
      "And share with you it's beauty,\n",
      "\n",
      "On days when you feel blue.\n",
      "\n",
      "\n",
      "\n",
      "If I could, I'd build a mountain,\n",
      "\n",
      "You could call your very own,\n",
      "\n",
      "A place to find serenity,\n",
      "\n",
      "A place to be alone.\n",
      "\n",
      "\n",
      "\n"
     ]
    }
   ],
   "source": [
    "% run head.py poem.txt"
   ]
  },
  {
   "cell_type": "code",
   "execution_count": 35,
   "metadata": {
    "collapsed": false
   },
   "outputs": [
    {
     "name": "stdout",
     "output_type": "stream",
     "text": [
      "Overwriting tail.py\n"
     ]
    }
   ],
   "source": [
    "%%writefile tail.py\n",
    "import sys\n",
    "p = open(str(sys.argv[1]), 'r')\n",
    "line = p.readlines()\n",
    "l = len(line)\n",
    "if l < 10:\n",
    "    start = 0\n",
    "else:\n",
    "    start = l-10\n",
    "for i in range(start, l):\n",
    "    print line[i]"
   ]
  },
  {
   "cell_type": "code",
   "execution_count": 36,
   "metadata": {
    "collapsed": false
   },
   "outputs": [
    {
     "name": "stdout",
     "output_type": "stream",
     "text": [
      "\n",
      "\n",
      "If I could take you troubles,\n",
      "\n",
      "I would toss them in the sea,\n",
      "\n",
      "But all these things, I'm finding,\n",
      "\n",
      "Are impossible to me.\n",
      "\n",
      "\n",
      "\n",
      "I cannot build a mountain,\n",
      "\n",
      "Or catch a rainbow fair,\n",
      "\n",
      "But let me be what I do best,\n",
      "\n",
      "A friend who's always there.\n"
     ]
    }
   ],
   "source": [
    "% run tail.py poem.txt"
   ]
  },
  {
   "cell_type": "code",
   "execution_count": 37,
   "metadata": {
    "collapsed": false
   },
   "outputs": [
    {
     "name": "stdout",
     "output_type": "stream",
     "text": [
      "The shells that she sells are seashells I'm sure.\n",
      "\n",
      "I'm sure that the shells are seashore shells.\n",
      "\n"
     ]
    }
   ],
   "source": [
    "# Problem 20: Implement unix command grep. The grep command takes a string and a file as arguments and prints \n",
    "# all lines in the file which contain the specified string.\n",
    "\n",
    "with open('she.txt', 'r') as f:\n",
    "\n",
    "    lines = f.readlines()\n",
    "    for i in range(0, len(lines)):\n",
    "        if 'sure' in lines[i]:\n",
    "            print lines[i]\n"
   ]
  },
  {
   "cell_type": "code",
   "execution_count": 38,
   "metadata": {
    "collapsed": false
   },
   "outputs": [
    {
     "name": "stdout",
     "output_type": "stream",
     "text": [
      "Overwriting grep.py\n"
     ]
    }
   ],
   "source": [
    "%%writefile grep.py\n",
    "import sys\n",
    "with open(str(sys.argv[1]), 'r') as f:\n",
    "    lines = f.readlines()\n",
    "    for i in range(0, len(lines)):\n",
    "        if str(sys.argv[2]) in lines[i]:\n",
    "            print lines[i]\n"
   ]
  },
  {
   "cell_type": "code",
   "execution_count": 39,
   "metadata": {
    "collapsed": false
   },
   "outputs": [
    {
     "name": "stdout",
     "output_type": "stream",
     "text": [
      "The shells that she sells are seashells I'm sure.\n",
      "\n",
      "I'm sure that the shells are seashore shells.\n",
      "\n"
     ]
    }
   ],
   "source": [
    "% run grep.py she.txt sure"
   ]
  },
  {
   "cell_type": "code",
   "execution_count": 40,
   "metadata": {
    "collapsed": false
   },
   "outputs": [
    {
     "name": "stdout",
     "output_type": "stream",
     "text": [
      "She sells seashells on the sea\n",
      "hore;\n",
      "\n",
      "The shells that she sells are \n",
      "eashells I'm sure.\n",
      "\n",
      "So if she sells seashells on t\n",
      "e seashore,\n",
      "\n",
      "I'm sure that the shells are s\n",
      "ashore shells.\n",
      "\n"
     ]
    }
   ],
   "source": [
    "# Problem 21: Write a program wrap.py that takes filename and width as aruguments and wraps the lines longer \n",
    "# than width.\n",
    "\n",
    "with open('she.txt', 'r') as f:\n",
    "    lines = f.readlines()\n",
    "    for i in lines:\n",
    "        if len(i) > 30:\n",
    "            nline = i[0:30] + '\\n' + i[31:]\n",
    "            print nline\n"
   ]
  },
  {
   "cell_type": "code",
   "execution_count": 41,
   "metadata": {
    "collapsed": false
   },
   "outputs": [
    {
     "name": "stdout",
     "output_type": "stream",
     "text": [
      "Overwriting wrap.py\n"
     ]
    }
   ],
   "source": [
    "%%writefile wrap.py\n",
    "import sys\n",
    "with open(str(sys.argv[1]), 'r') as f:\n",
    "    lines = f.readlines()\n",
    "    width = int(sys.argv[2])\n",
    "    for i in lines:\n",
    "        if len(i) > width:\n",
    "            nline = i[:width:] + '\\n' + i[width:]\n",
    "            print nline"
   ]
  },
  {
   "cell_type": "code",
   "execution_count": 42,
   "metadata": {
    "collapsed": false
   },
   "outputs": [
    {
     "name": "stdout",
     "output_type": "stream",
     "text": [
      "She sells seashells on the sea\n",
      "shore;\n",
      "\n",
      "The shells that she sells are \n",
      "seashells I'm sure.\n",
      "\n",
      "So if she sells seashells on t\n",
      "he seashore,\n",
      "\n",
      "I'm sure that the shells are s\n",
      "eashore shells.\n",
      "\n"
     ]
    }
   ],
   "source": [
    "% run wrap.py she.txt 30"
   ]
  },
  {
   "cell_type": "code",
   "execution_count": 43,
   "metadata": {
    "collapsed": false
   },
   "outputs": [
    {
     "name": "stdout",
     "output_type": "stream",
     "text": [
      "She sells seashells on the\n",
      "seashore;\n",
      "\n",
      "The shells that she sells are\n",
      "seashells I'm sure.\n",
      "\n",
      "So if she sells seashells on\n",
      "the seashore,\n",
      "\n",
      "I'm sure that the shells are\n",
      "seashore shells.\n",
      "\n"
     ]
    }
   ],
   "source": [
    "# Problem 22: The above wrap program is not so nice because it is breaking the line at middle of any word. \n",
    "# Can you write a new program wordwrap.py that works like wrap.py, but breaks the line only at the word boundaries?\n",
    "\n",
    "with open('she.txt', 'r') as f:\n",
    "    lines = f.readlines()\n",
    "    for i in lines:\n",
    "        bl = 30        \n",
    "        if len(i) > bl:\n",
    "            while not i[bl] == ' ':\n",
    "                bl -= 1\n",
    "                nline = i[0:bl] + '\\n' + i[bl+1:]\n",
    "            print nline"
   ]
  },
  {
   "cell_type": "code",
   "execution_count": 44,
   "metadata": {
    "collapsed": false
   },
   "outputs": [
    {
     "name": "stdout",
     "output_type": "stream",
     "text": [
      "Overwriting wordwrap.py\n"
     ]
    }
   ],
   "source": [
    "%%writefile wordwrap.py\n",
    "import sys\n",
    "with open(str(sys.argv[1]), 'r') as f:\n",
    "    lines = f.readlines()\n",
    "    for i in lines:\n",
    "        bl = int(sys.argv[2])     \n",
    "        if len(i) > bl:\n",
    "            while not i[bl] == ' ':\n",
    "                bl -= 1\n",
    "                nline = i[0:bl] + '\\n' + i[bl+1:]\n",
    "            print nline"
   ]
  },
  {
   "cell_type": "code",
   "execution_count": 45,
   "metadata": {
    "collapsed": false
   },
   "outputs": [
    {
     "name": "stdout",
     "output_type": "stream",
     "text": [
      "She sells seashells on the\n",
      "seashore;\n",
      "\n",
      "The shells that she sells are\n",
      "seashells I'm sure.\n",
      "\n",
      "So if she sells seashells on\n",
      "the seashore,\n",
      "\n",
      "I'm sure that the shells are\n",
      "seashore shells.\n",
      "\n"
     ]
    }
   ],
   "source": [
    "% run wordwrap.py she.txt 30"
   ]
  },
  {
   "cell_type": "code",
   "execution_count": 46,
   "metadata": {
    "collapsed": false
   },
   "outputs": [
    {
     "name": "stdout",
     "output_type": "stream",
     "text": [
      "      She sells seashells on the seashore;\n",
      "\n",
      "The shells that she sells are seashells I'm sure.\n",
      "\n",
      "   So if she sells seashells on the seashore,\n",
      "\n",
      "  I'm sure that the shells are seashore shells.\n",
      "\n"
     ]
    }
   ],
   "source": [
    "# Problem 23: Write a program center_align.py to center align all lines in the given file.\n",
    "with open('she.txt', 'r') as f:\n",
    "    lines = f.readlines()\n",
    "    ml = 0\n",
    "    ml = max([len(i) for i in lines])\n",
    "    for i in lines:        \n",
    "        if len(i) < ml:\n",
    "            nline = ' '* int((ml - len(i))/2) + i\n",
    "            print nline\n",
    "        else:\n",
    "            print i"
   ]
  },
  {
   "cell_type": "code",
   "execution_count": 47,
   "metadata": {
    "collapsed": false
   },
   "outputs": [
    {
     "name": "stdout",
     "output_type": "stream",
     "text": [
      "Overwriting center_align.py\n"
     ]
    }
   ],
   "source": [
    "%%writefile center_align.py\n",
    "import sys\n",
    "with open(str(sys.argv[1]), 'r') as f:\n",
    "    lines = f.readlines()\n",
    "    ml = 0\n",
    "    ml = max([len(i) for i in lines])\n",
    "    for i in lines:        \n",
    "        if len(i) < ml:\n",
    "            nline = ' '* int((ml - len(i))/2) + i\n",
    "            print nline\n",
    "        else:\n",
    "            print i"
   ]
  },
  {
   "cell_type": "code",
   "execution_count": 48,
   "metadata": {
    "collapsed": false
   },
   "outputs": [
    {
     "name": "stdout",
     "output_type": "stream",
     "text": [
      "      She sells seashells on the seashore;\n",
      "\n",
      "The shells that she sells are seashells I'm sure.\n",
      "\n",
      "   So if she sells seashells on the seashore,\n",
      "\n",
      "  I'm sure that the shells are seashore shells.\n",
      "\n"
     ]
    }
   ],
   "source": [
    "% run center_align.py she.txt"
   ]
  },
  {
   "cell_type": "code",
   "execution_count": 49,
   "metadata": {
    "collapsed": false
   },
   "outputs": [
    {
     "data": {
      "text/plain": [
       "[(1, 'a'), (2, 'b'), (3, 'c')]"
      ]
     },
     "execution_count": 49,
     "metadata": {},
     "output_type": "execute_result"
    }
   ],
   "source": [
    "# Problem 24: Provide an implementation for zip function using list comprehensions.\n",
    "\n",
    "def zip2(x, y):\n",
    "    if len(x) == len(y):\n",
    "        return [(x[i], y[i]) for i in range(len(x))]\n",
    "    else:\n",
    "        print 'Different length betwee the two list'\n",
    "\n",
    "zip2([1, 2, 3], [\"a\", \"b\", \"c\"])"
   ]
  },
  {
   "cell_type": "code",
   "execution_count": 50,
   "metadata": {
    "collapsed": false
   },
   "outputs": [
    {
     "data": {
      "text/plain": [
       "[0, 1, 4, 9, 16]"
      ]
     },
     "execution_count": 50,
     "metadata": {},
     "output_type": "execute_result"
    }
   ],
   "source": [
    "# Problem 25: Python provides a built-in function map that applies a function to each element of a list. \n",
    "# Provide an implementation for map using list comprehensions.\n",
    "\n",
    "def square(x): return x * x\n",
    "\n",
    "def map2(function, l):\n",
    "    return [function(i) for i in l]\n",
    "\n",
    "map2(square, range(5))"
   ]
  },
  {
   "cell_type": "code",
   "execution_count": 51,
   "metadata": {
    "collapsed": false
   },
   "outputs": [
    {
     "data": {
      "text/plain": [
       "[0, 2, 4, 6, 8]"
      ]
     },
     "execution_count": 51,
     "metadata": {},
     "output_type": "execute_result"
    }
   ],
   "source": [
    "# Problem 26: Python provides a built-in function filter(f, a) that returns items of the list a for which f(item) \n",
    "# returns true. Provide an implementation for filter using list comprehensions.\n",
    "\n",
    "def even(x): return x %2 == 0\n",
    "\n",
    "def filter2(function, l):\n",
    "    return [i for i in l if function(i)]\n",
    "\n",
    "filter2(even, range(10))"
   ]
  },
  {
   "cell_type": "code",
   "execution_count": 52,
   "metadata": {
    "collapsed": false
   },
   "outputs": [
    {
     "name": "stdout",
     "output_type": "stream",
     "text": [
      "[(1, 1, 2), (1, 2, 3), (1, 3, 4), (2, 2, 4)]\n",
      "[(1, 1, 2), (1, 2, 3), (1, 3, 4), (1, 4, 5), (2, 2, 4), (2, 3, 5)]\n"
     ]
    }
   ],
   "source": [
    "# Problem 27: Write a function triplets that takes a number n as argument and returns a list of triplets \n",
    "# such that sum of first two elements of the triplet equals the third element using numbers below n. \n",
    "# Please note that (a, b, c) and (b, a, c) represent same triplet.\n",
    "\n",
    "def triplet(n):\n",
    "    x = range(1,n)\n",
    "    return [(i,j,i+j) for i in x for j in x if (i+j < n) and (i<=j)]\n",
    "\n",
    "print triplet(5)\n",
    "print triplet(6)"
   ]
  },
  {
   "cell_type": "code",
   "execution_count": 53,
   "metadata": {
    "collapsed": false
   },
   "outputs": [
    {
     "name": "stdout",
     "output_type": "stream",
     "text": [
      "[(0, 'a'), (1, 'b'), (2, 'c')]\n",
      "0 a\n",
      "1 b\n",
      "2 c\n"
     ]
    }
   ],
   "source": [
    "# Problem 28: Write a function enumerate that takes a list and returns a list of tuples containing (index,item) \n",
    "# for each item in the list.\n",
    "\n",
    "def enumerate2(l):\n",
    "    i = range(len(l))\n",
    "    return zip(i, l)\n",
    "\n",
    "print enumerate2([\"a\", \"b\", \"c\"])\n",
    "\n",
    "for index, value in enumerate2([\"a\", \"b\", \"c\"]):\n",
    "     print index, value"
   ]
  },
  {
   "cell_type": "code",
   "execution_count": 54,
   "metadata": {
    "collapsed": false
   },
   "outputs": [
    {
     "name": "stdout",
     "output_type": "stream",
     "text": [
      "[[None, None], [None, None, None]]\n",
      "[[5, None], [None, None, None]]\n"
     ]
    }
   ],
   "source": [
    "# Problem 29: Write a function array to create an 2-dimensional array. The function should take both dimensions \n",
    "# as arguments. Value of each element can be initialized to None:\n",
    "\n",
    "def array(x, y):\n",
    "    return [[None]*x, [None]*y]\n",
    "a = array(2, 3)\n",
    "print a\n",
    "a[0][0] = 5\n",
    "print a"
   ]
  },
  {
   "cell_type": "code",
   "execution_count": 55,
   "metadata": {
    "collapsed": false,
    "scrolled": true
   },
   "outputs": [
    {
     "name": "stdout",
     "output_type": "stream",
     "text": [
      "a,b,c\n",
      "1,2,3\n",
      "2,3,4\n",
      "3,4,5\n"
     ]
    }
   ],
   "source": [
    "# Problem 30: Write a python function parse_csv to parse csv (comma separated values) files.\n",
    "print open('a2.csv').read()"
   ]
  },
  {
   "cell_type": "code",
   "execution_count": 56,
   "metadata": {
    "collapsed": false
   },
   "outputs": [
    {
     "data": {
      "text/plain": [
       "[['a', 'b', 'c'], ['1', '2', '3'], ['2', '3', '4'], ['3', '4', '5']]"
      ]
     },
     "execution_count": 56,
     "metadata": {},
     "output_type": "execute_result"
    }
   ],
   "source": [
    "def parse_csv(csv_f):\n",
    "    with open(csv_f, 'r') as f:\n",
    "        lines = f.readlines()\n",
    "        return [lines[i].strip().split(',') for i in range(len(lines))]\n",
    "parse_csv('a2.csv')"
   ]
  },
  {
   "cell_type": "code",
   "execution_count": 57,
   "metadata": {
    "collapsed": false
   },
   "outputs": [
    {
     "name": "stdout",
     "output_type": "stream",
     "text": [
      "# elements are separated by ! and comment indicator is #\n",
      "a!b!c\n",
      "1!2!3\n",
      "2!3!4\n",
      "3!4!5\n"
     ]
    }
   ],
   "source": [
    "# Problem 31: Generalize the above implementation of csv parser to support any delimiter and comments.\n",
    "print open('a.txt').read()"
   ]
  },
  {
   "cell_type": "code",
   "execution_count": 58,
   "metadata": {
    "collapsed": false
   },
   "outputs": [
    {
     "data": {
      "text/plain": [
       "[['a', 'b', 'c'], ['1', '2', '3'], ['2', '3', '4'], ['3', '4', '5']]"
      ]
     },
     "execution_count": 58,
     "metadata": {},
     "output_type": "execute_result"
    }
   ],
   "source": [
    "def parse(csv_f, sep, comment):\n",
    "    with open(csv_f, 'r') as f:\n",
    "        lines = f.readlines()\n",
    "        return [lines[i].strip().split(sep) for i in range(len(lines)) if lines[i][0] != comment]\n",
    "parse('a.txt', '!', '#')"
   ]
  },
  {
   "cell_type": "code",
   "execution_count": 59,
   "metadata": {
    "collapsed": false
   },
   "outputs": [
    {
     "name": "stdout",
     "output_type": "stream",
     "text": [
      "True\n",
      "True\n",
      "False\n"
     ]
    }
   ],
   "source": [
    "# Problem 32: Write a function mutate to compute all words generated by a single mutation on a given word. \n",
    "# A mutation is defined as \n",
    "# 1. inserting a character, \n",
    "# 2. deleting a character, \n",
    "# 3. replacing a character, \n",
    "# 4  swapping 2 consecutive characters in a string. \n",
    "# For simplicity consider only letters from a to z.\n",
    "\n",
    "def mutate(word):\n",
    "    letters = 'abcdefghijklmnopqrstuvwxyz'\n",
    "    cha = [l for l in letters]\n",
    "    mut = [word[:s] + c + word[s:] for c in cha for s in range(len(word))] # inserting a character\n",
    "    mut += [word[:s] + word[s+1:] for s in range(len(word))] # deleting a character\n",
    "    mut += [word[:s] + c + word[s+1:] for c in cha for s in range(len(word))] # replacing a character\n",
    "    mut += [x[s][:s+1] + word[s] + x[s][s+1:] for s in range(len(word))] # swapping 2 consecutive characters in a string\n",
    "    return mut\n",
    "\n",
    "words = mutate('hello')\n",
    "print 'helo' in words\n",
    "print 'cello' in words\n",
    "print 'helol' in words"
   ]
  },
  {
   "cell_type": "code",
   "execution_count": 60,
   "metadata": {
    "collapsed": false
   },
   "outputs": [
    {
     "name": "stdout",
     "output_type": "stream",
     "text": [
      "False\n",
      "True\n",
      "True\n",
      "False\n"
     ]
    }
   ],
   "source": [
    "# Problem 33: Write a function nearly_equal to test whether two strings are nearly equal. \n",
    "# Two strings a and b are nearly equal when a can be generated by a single mutation on b.\n",
    "\n",
    "def nearly_equal(string1, string2):\n",
    "    return string1 in mutate(string2)\n",
    "\n",
    "print nearly_equal('python', 'perl')\n",
    "print nearly_equal('perl', 'pearl')\n",
    "print nearly_equal('python', 'jython')\n",
    "print nearly_equal('man', 'woman')"
   ]
  },
  {
   "cell_type": "code",
   "execution_count": 61,
   "metadata": {
    "collapsed": true
   },
   "outputs": [],
   "source": [
    "# given functions\n",
    "def word_frequency(words):\n",
    "    \"\"\"Returns frequency of each word given a list of words.\n",
    "\n",
    "        >>> word_frequency(['a', 'b', 'a'])\n",
    "        {'a': 2, 'b': 1}\n",
    "    \"\"\"\n",
    "    frequency = {}\n",
    "    for w in words:\n",
    "        frequency[w] = frequency.get(w, 0) + 1\n",
    "    return frequency\n",
    "\n",
    "def read_words(filename):\n",
    "    return open(filename).read().split()\n",
    "\n",
    "def main(filename):\n",
    "    frequency = word_frequency(read_words(filename))\n",
    "    for word, count in frequency.items():\n",
    "        print word, count"
   ]
  },
  {
   "cell_type": "code",
   "execution_count": 62,
   "metadata": {
    "collapsed": false
   },
   "outputs": [
    {
     "name": "stdout",
     "output_type": "stream",
     "text": [
      "‘number 2\n",
      "all 1\n",
      "We’ll 1\n",
      "resistance 1\n",
      "eschewed 1\n",
      "go 1\n",
      "ridiculous 1\n",
      "saved 1\n",
      "CPU 1\n",
      "flash, 2\n",
      "Apple's 1\n",
      "gamut 1\n",
      "(for 1\n",
      "flash 1\n",
      "time. 2\n",
      "removal 1\n",
      "to 57\n",
      "charge 3\n",
      "Lighting 2\n",
      "‘all 1\n",
      "1080p 3\n",
      "performs 1\n",
      "and, 1\n",
      "very 3\n",
      "happy 1\n",
      "wave 1\n",
      "hardwork 1\n",
      "practicality 1\n",
      "Plus 25\n",
      "jack 4\n",
      "6-element 1\n",
      "quad-LED 2\n",
      "entire 1\n",
      "internally 2\n",
      "level 1\n",
      "did 1\n",
      "ageing 1\n",
      "button 1\n",
      "companies 2\n",
      "this 13\n",
      "small 1\n",
      "answer? 1\n",
      "slower 1\n",
      "1080 1\n",
      "phones 3\n",
      "Cameras 1\n",
      "oz) 4\n",
      "likely 2\n",
      "persuade 1\n",
      "design 3\n",
      "displays 2\n",
      "implemented 1\n",
      "news 2\n",
      "Apple-designed 1\n",
      "3D 1\n",
      "even 1\n",
      "what 3\n",
      "stood 1\n",
      "appear 1\n",
      "records, 1\n",
      "Far 1\n",
      "fact 1\n",
      "marketed 1\n",
      "2GB 1\n",
      "expressed 2\n",
      "lights 1\n",
      "suspect 1\n",
      "change: 1\n",
      "new 12\n",
      "Line 1\n",
      "ever 2\n",
      "3.5mm 2\n",
      "up. 1\n",
      "proclaiming 1\n",
      "full 2\n",
      "questionable, 1\n",
      "display. 1\n",
      "1334 1\n",
      "Age 1\n",
      "water 2\n",
      "range? 1\n",
      "generation. 1\n",
      "let 3\n",
      "others 2\n",
      "line’s 1\n",
      "along 1\n",
      "substance 1\n",
      "standout 1\n",
      "unconvinced 1\n",
      "30 1\n",
      "metre 1\n",
      "resulting 1\n",
      "here. 1\n",
      "however, 1\n",
      "changes 4\n",
      "options 1\n",
      "divide 1\n",
      "67.1 1\n",
      "fireworks 1\n",
      "S7 2\n",
      "ticking 1\n",
      "Also 1\n",
      "resolutions 1\n",
      "should 2\n",
      "Charging 1\n",
      "market 1\n",
      "Core 1\n",
      "use 1\n",
      "from 8\n",
      "prove 1\n",
      "times). 1\n",
      "two 3\n",
      "eagled 1\n",
      "next 1\n",
      "leaks 2\n",
      "live 1\n",
      "camera 8\n",
      "music 1\n",
      "6 6\n",
      "taken 1\n",
      "right. 1\n",
      "bundled 3\n",
      "unthinkable 1\n",
      "16GB 2\n",
      "more 7\n",
      "box, 1\n",
      "box. 2\n",
      "company 1\n",
      "moored 1\n",
      "it 15\n",
      "phone 2\n",
      "warm 1\n",
      "So 4\n",
      "stick 1\n",
      "7000 1\n",
      "Pixels, 2\n",
      "(172g). 1\n",
      "outdated 2\n",
      "Better 1\n",
      "Contributors 2\n",
      "hour 1\n",
      "mm 2\n",
      "2.64 1\n",
      "work 1\n",
      "fast 3\n",
      "flagship 2\n",
      "Improvements 1\n",
      "can 1\n",
      "isn’t 1\n",
      "lighter 1\n",
      "App 1\n",
      "history 1\n",
      "headphones 1\n",
      "in 19\n",
      "Rear: 2\n",
      "Forbes 3\n",
      "dropped 1\n",
      "“cinema 1\n",
      "cool 1\n",
      "earpiece 1\n",
      "(perhaps 1\n",
      "huge 2\n",
      "management, 1\n",
      "disappointingly 1\n",
      "write 2\n",
      "far 2\n",
      "Fusion 1\n",
      "77.9 1\n",
      "elephant 2\n",
      "opt 1\n",
      "native 1\n",
      "charging 3\n",
      "$100 1\n",
      "snaps 1\n",
      "chipset: 1\n",
      "after 1\n",
      "iPhones 9\n",
      "Can 1\n",
      "follows: 1\n",
      "produce 1\n",
      "value 2\n",
      "polarise 1\n",
      "Kelly 2\n",
      "such 2\n",
      "core 1\n",
      "wouldn’t 1\n",
      "a 30\n",
      "Still 1\n",
      "natural 1\n",
      "Apple 29\n",
      "third 2\n",
      "Needless 1\n",
      "Series 1\n",
      "predicted, 1\n",
      "processor 1\n",
      "so 7\n",
      "1440) 1\n",
      "goodbye 1\n",
      "every 1\n",
      "music. 1\n",
      "no. 2\n",
      "feedback 2\n",
      "Bottom 1\n",
      "over 1\n",
      "years 2\n",
      "technology's 2\n",
      "2017. 1\n",
      "flagships 1\n",
      "paper 1\n",
      "through 1\n",
      "still 7\n",
      "its 7\n",
      "port. 1\n",
      "1 1\n",
      "4.7-inch 1\n",
      "overhaul 2\n",
      "how 1\n",
      "exact 1\n",
      "RAM 2\n",
      ", 2\n",
      "better 2\n",
      "celebrate 1\n",
      "Adaptors 1\n",
      "2017 1\n",
      "2016 2\n",
      "lies 1\n",
      "welcome, 1\n",
      "them 4\n",
      "good 2\n",
      "greater 1\n",
      "significance 1\n",
      "Lightning 1\n",
      "break 2\n",
      "year. 1\n",
      "Gordon 2\n",
      "they 9\n",
      "fingerprint 1\n",
      "not 7\n",
      "catchup. 1\n",
      "now 3\n",
      "bigger 1\n",
      "2K 1\n",
      "Aluminium 1\n",
      "name 1\n",
      "times) 1\n",
      "2x 2\n",
      "IPS 2\n",
      "stopped 1\n",
      "Black 2\n",
      "out 1\n",
      "side 3\n",
      "telephoto 1\n",
      "Curse 1\n",
      "138.3 1\n",
      "sensor, 4\n",
      "56mm), 1\n",
      "durability 1\n",
      "Rose 1\n",
      "recording, 1\n",
      "It’s 3\n",
      "expect 2\n",
      "year 13\n",
      "28mm 1\n",
      "More 4\n",
      "yes, 4\n",
      "space 1\n",
      "Retina 1\n",
      "($849), 1\n",
      "increase 1\n",
      "may 5\n",
      "downside, 2\n",
      "7 47\n",
      "got 1\n",
      "disclose 1\n",
      "wasn’t 1\n",
      "interesting. 1\n",
      "Samsung 4\n",
      "This 2\n",
      "256GB 4\n",
      "3.07 1\n",
      "According 1\n",
      "you’ll 1\n",
      "base 1\n",
      "struggle 1\n",
      "One 1\n",
      "sensors 1\n",
      "Apple’s 1\n",
      "additional 2\n",
      "owners 2\n",
      "g 2\n",
      "Battery 1\n",
      "where 1\n",
      "could 3\n",
      "calls), 1\n",
      "keep 1\n",
      "camera) 1\n",
      "f/2.2 3\n",
      "Touch 2\n",
      "uses 1\n",
      "loud 1\n",
      "durable 2\n",
      "speeds 1\n",
      "first 5\n",
      "iPad 1\n",
      "major 3\n",
      "already 1\n",
      "65.6% 1\n",
      "feel 1\n",
      "radical 3\n",
      "There 1\n",
      "short: 2\n",
      "one 2\n",
      "minutes) 1\n",
      "tier 2\n",
      "improvements 2\n",
      "done 3\n",
      "OIS, 1\n",
      "another 2\n",
      "OIS. 1\n",
      "array 1\n",
      "quality 1\n",
      "stage 1\n",
      "Samsung’s 1\n",
      "given 1\n",
      "cameras) 1\n",
      "top 1\n",
      "their 4\n",
      "brands. 1\n",
      "aiding 1\n",
      "Such 1\n",
      "188 1\n",
      "submersion 1\n",
      "really 2\n",
      "lens 3\n",
      "listen 1\n",
      "selling 2\n",
      "on, 1\n",
      "that 8\n",
      "(6.23 1\n",
      "(2560 1\n",
      "Pro. 1\n",
      "Edge 3\n",
      "because 1\n",
      "eyed 1\n",
      "somewhat 2\n",
      "quad 1\n",
      "than 3\n",
      "wide 1\n",
      "12 1\n",
      "still: 1\n",
      "rival 2\n",
      "see 1\n",
      "recording 2\n",
      "were 2\n",
      "video 3\n",
      "Lastly 1\n",
      "Is 1\n",
      "Galaxy 5\n",
      "and 61\n",
      "($749), 2\n",
      "wide-angle 1\n",
      "close 1\n",
      "(0.14 1\n",
      "adaptor, 2\n",
      "unchanged 1\n",
      "(0.17 1\n",
      "change’. 2\n",
      "(and 1\n",
      "claim: 1\n",
      "say 2\n",
      "style 1\n",
      "have 10\n",
      "portrait 1\n",
      "need 1\n",
      "seen 1\n",
      "Main 1\n",
      "any 3\n",
      "ditched 1\n",
      "year’s 1\n",
      "Then 1\n",
      "speakers 2\n",
      "158.2 1\n",
      "there’s 1\n",
      "mic 1\n",
      "hasn’t 2\n",
      "upgrading 1\n",
      "mid 1\n",
      "also 8\n",
      "internal 1\n",
      "useless 1\n",
      "They 3\n",
      "performance 3\n",
      "option. 1\n",
      "(single 1\n",
      "though 3\n",
      "7. 2\n",
      "Front: 2\n",
      "($949) 1\n",
      "most 1\n",
      "significant 3\n",
      "(f/1.8, 1\n",
      "retaining 1\n",
      "The 7\n",
      "coveted 1\n",
      "modem 1\n",
      "captured. 1\n",
      "I’d 1\n",
      "not? 2\n",
      "Some 1\n",
      "CPU, 1\n",
      "reflecting 1\n",
      "iPhones. 2\n",
      "iPhones, 1\n",
      "doesn’t 1\n",
      "Speed 1\n",
      "fitted 1\n",
      "particularly 2\n",
      "favour 1\n",
      "7.3 1\n",
      "7.1 1\n",
      "one: 2\n",
      "glass’ 1\n",
      "depth 1\n",
      "with. 1\n",
      "ratio 2\n",
      "Meanwhile 3\n",
      "front 1\n",
      "Big 1\n",
      "67.7% 1\n",
      "OLED 1\n",
      "short 1\n",
      "brighter 1\n",
      "only 1\n",
      "going 3\n",
      "pretty 1\n",
      "equipped 1\n",
      "pointed 1\n",
      "screen-to-body 2\n",
      "storage 5\n",
      "Lifted 1\n",
      "topple 1\n",
      "gains 1\n",
      "get 4\n",
      "photography 1\n",
      "While 2\n",
      "fastest 1\n",
      "2016. 1\n",
      "shots). 1\n",
      "during 1\n",
      "12MP 1\n",
      "(one 1\n",
      "Opinions 2\n",
      "‘True 1\n",
      "nicely 1\n",
      "True 1\n",
      "predicted 1\n",
      "double 1\n",
      "charging. 1\n",
      "x 11\n",
      "grab 1\n",
      "steal 2\n",
      "spotted 1\n",
      "omission 1\n",
      "2.0’ 2\n",
      "64GB 1\n",
      "Storage 1\n",
      "stagnation 1\n",
      "around 1\n",
      "up 5\n",
      "1920 1\n",
      "Recommended 1\n",
      "are 24\n",
      "Performance 1\n",
      "Android 2\n",
      "138 1\n",
      "That 1\n",
      "7MP 3\n",
      "enough 3\n",
      "years, 1\n",
      "Quad 1\n",
      "(though 1\n",
      "keynote 1\n",
      "missing 3\n",
      "deliver 2\n",
      "40% 1\n",
      "brighter, 1\n",
      "bemoan 1\n",
      "key 2\n",
      "Plus, 3\n",
      "Plus. 6\n",
      "pixels 2\n",
      "setup. 1\n",
      "both 13\n",
      "feeling 1\n",
      "last 4\n",
      "generous 1\n",
      "many 2\n",
      "hours 1\n",
      "Focus 2\n",
      "enabling 1\n",
      "sensitive 1\n",
      "loudly 1\n",
      "Design 2\n",
      "fans 1\n",
      "Yes 2\n",
      "close. 1\n",
      "surface. 1\n",
      "comes 3\n",
      "ppi), 2\n",
      "(4.87 1\n",
      "among 1\n",
      "finishes, 1\n",
      "had 1\n",
      "(good 1\n",
      "money, 1\n",
      "25% 1\n",
      "Note 2\n",
      "2014’s 1\n",
      "wider 2\n",
      "3GB 1\n",
      "recording. 2\n",
      "save 1\n",
      "light 2\n",
      "second 1\n",
      "($649), 1\n",
      "addition 3\n",
      "own. 2\n",
      "50% 2\n",
      "been 4\n",
      "controversial. 2\n",
      "much 5\n",
      "interest 1\n",
      "expected 1\n",
      "standard” 1\n",
      "upgrades. 1\n",
      "LCD, 2\n",
      "IP67 1\n",
      "options. 1\n",
      "options, 1\n",
      "edges. 1\n",
      "Stabilisation, 1\n",
      "options) 1\n",
      "photos 1\n",
      "LED-backlit 2\n",
      "external 4\n",
      "graphics 1\n",
      "prices 1\n",
      "improved 2\n",
      "hardcore 1\n",
      "Consequently 1\n",
      "And 7\n",
      "heavier 1\n",
      "smartphones 3\n",
      "look 6\n",
      "these 2\n",
      "Differentiator 1\n",
      "as 8\n",
      "7, 1\n",
      "will 9\n",
      "while 8\n",
      "6S 16\n",
      "replaced 1\n",
      "outside, 2\n",
      "Any 1\n",
      "launched 1\n",
      "Size 2\n",
      "faster. 1\n",
      "changed 2\n",
      "Both 1\n",
      "almost 2\n",
      "light. 1\n",
      "is 26\n",
      "(P3) 1\n",
      "designs 2\n",
      "surface 1\n",
      "disappointing 2\n",
      "dual 4\n",
      "haptic 2\n",
      "32GB, 1\n",
      "f/2.8, 1\n",
      "said, 1\n",
      "failed 1\n",
      "capture 2\n",
      "make 2\n",
      "respectively. 1\n",
      "same 3\n",
      "(dual 3\n",
      "Grey. 1\n",
      "headlines 1\n",
      "speaker 2\n",
      "virtually 4\n",
      "(401 1\n",
      "breakdown 1\n",
      "I 5\n",
      "bands, 1\n",
      "wired 1\n",
      "dust 1\n",
      "Silver, 1\n",
      "ID 1\n",
      "made. 1\n",
      "recent 2\n",
      "32GB 2\n",
      "four-LED 1\n",
      "colour 4\n",
      "well 1\n",
      "counterparts: 1\n",
      "In 5\n",
      "claims 2\n",
      "the 119\n",
      "audio 1\n",
      "latter 1\n",
      "iPhone 77\n",
      "upgraded 4\n",
      "128GB 6\n",
      "just 2\n",
      "16GB, 1\n",
      "increasingly 1\n",
      "able 1\n",
      "accurate 3\n",
      "(6.63 1\n",
      "batteries 1\n",
      "behind 2\n",
      "touch 1\n",
      "yes 2\n",
      "omissions 1\n",
      "yet 2\n",
      "previous 3\n",
      "buyers 2\n",
      "Jet 1\n",
      "let’s 2\n",
      "rigid 1\n",
      "surprises 2\n",
      "Showing 1\n",
      "seems 1\n",
      "it’s 2\n",
      "add 1\n",
      "potential 1\n",
      "optimising 1\n",
      "usage 1\n",
      "5g 1\n",
      "has 18\n",
      "identical 5\n",
      "On 2\n",
      "Durable, 2\n",
      "ago) 1\n",
      "which 7\n",
      "256GB. 1\n",
      "big 4\n",
      "capacities 2\n",
      "(129g) 1\n",
      "listening 1\n",
      "using 2\n",
      "megapixel 1\n",
      "room: 2\n",
      "rear 2\n",
      "Upgraded 1\n",
      "loss 1\n",
      "fractionally 1\n",
      "like 7\n",
      "signal 1\n",
      "zoom 1\n",
      "either 1\n",
      "Upgrades 1\n",
      "Instead, 2\n",
      "replacement 1\n",
      "Plus… 2\n",
      "450Mbit. 1\n",
      "some 5\n",
      "back 2\n",
      "50 1\n",
      "10th 1\n",
      "money: 1\n",
      "credit: 4\n",
      "home 1\n",
      "HD 1\n",
      "before, 1\n",
      "provided 2\n",
      "Life 1\n",
      "0.28 1\n",
      "0.29 1\n",
      "for 19\n",
      "bottom 2\n",
      "frees 1\n",
      "f/1.8 2\n",
      "decision 2\n",
      "opposite 1\n",
      "does 3\n",
      "provides 1\n",
      "results. 1\n",
      "6S, 2\n",
      "be 11\n",
      "models. 2\n",
      "models) 1\n",
      "100% 2\n",
      "Tone’ 1\n",
      "notably 1\n",
      "waits 1\n",
      "by 5\n",
      "First 4\n",
      "on 7\n",
      "about 2\n",
      "carried 1\n",
      "getting 1\n",
      "processors. 1\n",
      "of 35\n",
      "Image 5\n",
      "& 3\n",
      "Controversial 2\n",
      "improvement 1\n",
      "introduced 1\n",
      "or 3\n",
      "4K 2\n",
      "own 1\n",
      "image 1\n",
      "jack: 2\n",
      "awaited 2\n",
      "headphone 7\n",
      "down 5\n",
      "Their 1\n",
      "anniversary 1\n",
      "harness 1\n",
      "But 8\n",
      "4G 1\n",
      "(better 1\n",
      "jack, 1\n",
      "particular), 1\n",
      "(the 1\n",
      "Selling 1\n",
      "tidied 1\n",
      "Though 1\n",
      "removing 1\n",
      "support 1\n",
      "there 2\n",
      "tone) 2\n",
      "long 4\n",
      "custom 1\n",
      "Optical 1\n",
      "low 2\n",
      "lot 4\n",
      "labelling 1\n",
      "biggest 4\n",
      "(5.44 1\n",
      "5.5-inch 1\n",
      "Samsung, 1\n",
      "750 1\n",
      "elsewhere 1\n",
      "crown 2\n",
      "Interestingly 1\n",
      "differences 2\n",
      "Major 1\n",
      "but 13\n",
      "wireless 1\n",
      "aperture 2\n",
      "zoom, 1\n",
      "gain 1\n",
      "larger 1\n",
      "optical 2\n",
      "Gold, 2\n",
      "with 14\n",
      "metrics, 1\n",
      "made 7\n",
      "Tone 1\n",
      "users. 1\n",
      "flip 2\n",
      "lead 1\n",
      "panels 1\n",
      "clear 1\n",
      "row. 2\n",
      "proved 2\n",
      "Space 1\n",
      "There’s 2\n",
      "vibrations, 1\n",
      "sales 1\n",
      "an 5\n",
      "images 1\n",
      "single 1\n",
      "($849) 1\n",
      "at 7\n",
      "model, 1\n",
      "denying 1\n",
      "physical 2\n",
      "again 2\n",
      "compared 4\n",
      "A10 1\n",
      "antenna 1\n",
      "no 6\n",
      "‘iPhone 2\n",
      "percent 1\n",
      "As 2\n",
      "(something 1\n",
      "field 1\n",
      "aperture, 3\n",
      "you 1\n",
      "developers 1\n",
      "Displays 1\n",
      "2017… 1\n",
      "(326 1\n",
      "users 3\n",
      "models 3\n",
      "detractors 1\n",
      "again: 2\n",
      "in) 2\n",
      "Price 1\n",
      "highlighting 1\n",
      "dimensions 1\n",
      "click. 1\n",
      "– 16\n",
      "back: 1\n",
      "faster 4\n",
      "storage. 1\n",
      "mimic 1\n",
      "Points 1\n",
      "defections 1\n",
      "night. 2\n",
      "Dual 1\n",
      "time 3\n",
      "Contributor 2\n",
      "4g 1\n",
      "having 1\n",
      "Minimal 1\n",
      "once 1\n"
     ]
    }
   ],
   "source": [
    "# example using iphone7.txt\n",
    "main('iphone7.txt')"
   ]
  },
  {
   "cell_type": "code",
   "execution_count": 63,
   "metadata": {
    "collapsed": false
   },
   "outputs": [],
   "source": [
    "# Problem 34: Improve the above program to print the words in the descending order of the number of occurrences.\n",
    "# given functions\n",
    "\n",
    "def word_frequency(words):\n",
    "    \"\"\"Returns frequency of each word given a list of words.\n",
    "\n",
    "        >>> word_frequency(['a', 'b', 'a'])\n",
    "        {'a': 2, 'b': 1}\n",
    "    \"\"\"\n",
    "    frequency = {}\n",
    "    for w in words:\n",
    "        frequency[w] = frequency.get(w, 0) + 1\n",
    "    return frequency\n",
    "\n",
    "def read_words(filename):\n",
    "    return open(filename).read().split()\n",
    "\n",
    "def main(filename):\n",
    "    frequency = word_frequency(read_words(filename))\n",
    "#     for word, count in frequency.items():\n",
    "#         print word, count\n",
    "\n",
    "    for key in sorted(frequency, key=frequency.get, reverse=True):\n",
    "         print(key,frequency[key])        \n"
   ]
  },
  {
   "cell_type": "code",
   "execution_count": 64,
   "metadata": {
    "collapsed": false
   },
   "outputs": [
    {
     "name": "stdout",
     "output_type": "stream",
     "text": [
      "('the', 119)\n",
      "('iPhone', 77)\n",
      "('and', 61)\n",
      "('to', 57)\n",
      "('7', 47)\n",
      "('of', 35)\n",
      "('a', 30)\n",
      "('Apple', 29)\n",
      "('is', 26)\n",
      "('Plus', 25)\n",
      "('are', 24)\n",
      "('in', 19)\n",
      "('for', 19)\n",
      "('has', 18)\n",
      "('6S', 16)\n",
      "('\\xe2\\x80\\x93', 16)\n",
      "('it', 15)\n",
      "('with', 14)\n",
      "('this', 13)\n",
      "('year', 13)\n",
      "('both', 13)\n",
      "('but', 13)\n",
      "('new', 12)\n",
      "('x', 11)\n",
      "('be', 11)\n",
      "('have', 10)\n",
      "('iPhones', 9)\n",
      "('they', 9)\n",
      "('will', 9)\n",
      "('from', 8)\n",
      "('camera', 8)\n",
      "('that', 8)\n",
      "('also', 8)\n",
      "('as', 8)\n",
      "('while', 8)\n",
      "('But', 8)\n",
      "('more', 7)\n",
      "('so', 7)\n",
      "('still', 7)\n",
      "('its', 7)\n",
      "('not', 7)\n",
      "('The', 7)\n",
      "('And', 7)\n",
      "('which', 7)\n",
      "('like', 7)\n",
      "('on', 7)\n",
      "('headphone', 7)\n",
      "('made', 7)\n",
      "('at', 7)\n",
      "('6', 6)\n",
      "('Plus.', 6)\n",
      "('look', 6)\n",
      "('128GB', 6)\n",
      "('no', 6)\n",
      "('may', 5)\n",
      "('first', 5)\n",
      "('Galaxy', 5)\n",
      "('storage', 5)\n",
      "('up', 5)\n",
      "('much', 5)\n",
      "('I', 5)\n",
      "('In', 5)\n",
      "('identical', 5)\n",
      "('some', 5)\n",
      "('by', 5)\n",
      "('Image', 5)\n",
      "('down', 5)\n",
      "('an', 5)\n",
      "('jack', 4)\n",
      "('oz)', 4)\n",
      "('changes', 4)\n",
      "('So', 4)\n",
      "('them', 4)\n",
      "('sensor,', 4)\n",
      "('More', 4)\n",
      "('yes,', 4)\n",
      "('Samsung', 4)\n",
      "('256GB', 4)\n",
      "('their', 4)\n",
      "('get', 4)\n",
      "('last', 4)\n",
      "('been', 4)\n",
      "('external', 4)\n",
      "('dual', 4)\n",
      "('virtually', 4)\n",
      "('colour', 4)\n",
      "('upgraded', 4)\n",
      "('big', 4)\n",
      "('credit:', 4)\n",
      "('First', 4)\n",
      "('long', 4)\n",
      "('lot', 4)\n",
      "('biggest', 4)\n",
      "('compared', 4)\n",
      "('faster', 4)\n",
      "('charge', 3)\n",
      "('1080p', 3)\n",
      "('very', 3)\n",
      "('phones', 3)\n",
      "('design', 3)\n",
      "('what', 3)\n",
      "('let', 3)\n",
      "('two', 3)\n",
      "('bundled', 3)\n",
      "('fast', 3)\n",
      "('Forbes', 3)\n",
      "('charging', 3)\n",
      "('now', 3)\n",
      "('side', 3)\n",
      "('It\\xe2\\x80\\x99s', 3)\n",
      "('could', 3)\n",
      "('f/2.2', 3)\n",
      "('major', 3)\n",
      "('radical', 3)\n",
      "('done', 3)\n",
      "('lens', 3)\n",
      "('Edge', 3)\n",
      "('than', 3)\n",
      "('video', 3)\n",
      "('any', 3)\n",
      "('They', 3)\n",
      "('performance', 3)\n",
      "('though', 3)\n",
      "('significant', 3)\n",
      "('Meanwhile', 3)\n",
      "('going', 3)\n",
      "('7MP', 3)\n",
      "('enough', 3)\n",
      "('missing', 3)\n",
      "('Plus,', 3)\n",
      "('comes', 3)\n",
      "('addition', 3)\n",
      "('smartphones', 3)\n",
      "('same', 3)\n",
      "('(dual', 3)\n",
      "('accurate', 3)\n",
      "('previous', 3)\n",
      "('does', 3)\n",
      "('&', 3)\n",
      "('or', 3)\n",
      "('aperture,', 3)\n",
      "('users', 3)\n",
      "('models', 3)\n",
      "('time', 3)\n",
      "('\\xe2\\x80\\x98number', 2)\n",
      "('flash,', 2)\n",
      "('time.', 2)\n",
      "('Lighting', 2)\n",
      "('quad-LED', 2)\n",
      "('internally', 2)\n",
      "('companies', 2)\n",
      "('likely', 2)\n",
      "('displays', 2)\n",
      "('news', 2)\n",
      "('expressed', 2)\n",
      "('ever', 2)\n",
      "('3.5mm', 2)\n",
      "('full', 2)\n",
      "('water', 2)\n",
      "('others', 2)\n",
      "('S7', 2)\n",
      "('should', 2)\n",
      "('leaks', 2)\n",
      "('16GB', 2)\n",
      "('box.', 2)\n",
      "('phone', 2)\n",
      "('Pixels,', 2)\n",
      "('outdated', 2)\n",
      "('Contributors', 2)\n",
      "('mm', 2)\n",
      "('flagship', 2)\n",
      "('Rear:', 2)\n",
      "('huge', 2)\n",
      "('write', 2)\n",
      "('far', 2)\n",
      "('elephant', 2)\n",
      "('value', 2)\n",
      "('Kelly', 2)\n",
      "('such', 2)\n",
      "('third', 2)\n",
      "('no.', 2)\n",
      "('feedback', 2)\n",
      "('years', 2)\n",
      "(\"technology's\", 2)\n",
      "('overhaul', 2)\n",
      "('RAM', 2)\n",
      "(',', 2)\n",
      "('better', 2)\n",
      "('2016', 2)\n",
      "('good', 2)\n",
      "('break', 2)\n",
      "('Gordon', 2)\n",
      "('2x', 2)\n",
      "('IPS', 2)\n",
      "('Black', 2)\n",
      "('expect', 2)\n",
      "('downside,', 2)\n",
      "('This', 2)\n",
      "('additional', 2)\n",
      "('owners', 2)\n",
      "('g', 2)\n",
      "('Touch', 2)\n",
      "('durable', 2)\n",
      "('short:', 2)\n",
      "('one', 2)\n",
      "('tier', 2)\n",
      "('improvements', 2)\n",
      "('another', 2)\n",
      "('really', 2)\n",
      "('selling', 2)\n",
      "('somewhat', 2)\n",
      "('rival', 2)\n",
      "('recording', 2)\n",
      "('were', 2)\n",
      "('($749),', 2)\n",
      "('adaptor,', 2)\n",
      "('change\\xe2\\x80\\x99.', 2)\n",
      "('say', 2)\n",
      "('speakers', 2)\n",
      "('hasn\\xe2\\x80\\x99t', 2)\n",
      "('7.', 2)\n",
      "('Front:', 2)\n",
      "('not?', 2)\n",
      "('iPhones.', 2)\n",
      "('particularly', 2)\n",
      "('one:', 2)\n",
      "('ratio', 2)\n",
      "('screen-to-body', 2)\n",
      "('While', 2)\n",
      "('Opinions', 2)\n",
      "('steal', 2)\n",
      "('2.0\\xe2\\x80\\x99', 2)\n",
      "('Android', 2)\n",
      "('deliver', 2)\n",
      "('key', 2)\n",
      "('pixels', 2)\n",
      "('many', 2)\n",
      "('Focus', 2)\n",
      "('Design', 2)\n",
      "('Yes', 2)\n",
      "('ppi),', 2)\n",
      "('Note', 2)\n",
      "('wider', 2)\n",
      "('recording.', 2)\n",
      "('light', 2)\n",
      "('own.', 2)\n",
      "('50%', 2)\n",
      "('controversial.', 2)\n",
      "('LCD,', 2)\n",
      "('LED-backlit', 2)\n",
      "('improved', 2)\n",
      "('these', 2)\n",
      "('outside,', 2)\n",
      "('Size', 2)\n",
      "('changed', 2)\n",
      "('almost', 2)\n",
      "('designs', 2)\n",
      "('disappointing', 2)\n",
      "('haptic', 2)\n",
      "('capture', 2)\n",
      "('make', 2)\n",
      "('speaker', 2)\n",
      "('recent', 2)\n",
      "('32GB', 2)\n",
      "('claims', 2)\n",
      "('just', 2)\n",
      "('behind', 2)\n",
      "('yes', 2)\n",
      "('yet', 2)\n",
      "('buyers', 2)\n",
      "('let\\xe2\\x80\\x99s', 2)\n",
      "('surprises', 2)\n",
      "('it\\xe2\\x80\\x99s', 2)\n",
      "('On', 2)\n",
      "('Durable,', 2)\n",
      "('capacities', 2)\n",
      "('using', 2)\n",
      "('room:', 2)\n",
      "('rear', 2)\n",
      "('Instead,', 2)\n",
      "('Plus\\xe2\\x80\\xa6', 2)\n",
      "('back', 2)\n",
      "('provided', 2)\n",
      "('bottom', 2)\n",
      "('f/1.8', 2)\n",
      "('decision', 2)\n",
      "('6S,', 2)\n",
      "('models.', 2)\n",
      "('100%', 2)\n",
      "('about', 2)\n",
      "('Controversial', 2)\n",
      "('4K', 2)\n",
      "('jack:', 2)\n",
      "('awaited', 2)\n",
      "('there', 2)\n",
      "('tone)', 2)\n",
      "('low', 2)\n",
      "('crown', 2)\n",
      "('differences', 2)\n",
      "('aperture', 2)\n",
      "('optical', 2)\n",
      "('Gold,', 2)\n",
      "('flip', 2)\n",
      "('row.', 2)\n",
      "('proved', 2)\n",
      "('There\\xe2\\x80\\x99s', 2)\n",
      "('physical', 2)\n",
      "('again', 2)\n",
      "('\\xe2\\x80\\x98iPhone', 2)\n",
      "('As', 2)\n",
      "('again:', 2)\n",
      "('in)', 2)\n",
      "('night.', 2)\n",
      "('Contributor', 2)\n",
      "('all', 1)\n",
      "('We\\xe2\\x80\\x99ll', 1)\n",
      "('resistance', 1)\n",
      "('eschewed', 1)\n",
      "('go', 1)\n",
      "('ridiculous', 1)\n",
      "('saved', 1)\n",
      "('CPU', 1)\n",
      "(\"Apple's\", 1)\n",
      "('gamut', 1)\n",
      "('(for', 1)\n",
      "('flash', 1)\n",
      "('removal', 1)\n",
      "('\\xe2\\x80\\x98all', 1)\n",
      "('performs', 1)\n",
      "('and,', 1)\n",
      "('happy', 1)\n",
      "('wave', 1)\n",
      "('hardwork', 1)\n",
      "('practicality', 1)\n",
      "('6-element', 1)\n",
      "('entire', 1)\n",
      "('level', 1)\n",
      "('did', 1)\n",
      "('ageing', 1)\n",
      "('button', 1)\n",
      "('small', 1)\n",
      "('answer?', 1)\n",
      "('slower', 1)\n",
      "('1080', 1)\n",
      "('Cameras', 1)\n",
      "('persuade', 1)\n",
      "('implemented', 1)\n",
      "('Apple-designed', 1)\n",
      "('3D', 1)\n",
      "('even', 1)\n",
      "('stood', 1)\n",
      "('appear', 1)\n",
      "('records,', 1)\n",
      "('Far', 1)\n",
      "('fact', 1)\n",
      "('marketed', 1)\n",
      "('2GB', 1)\n",
      "('lights', 1)\n",
      "('suspect', 1)\n",
      "('change:', 1)\n",
      "('Line', 1)\n",
      "('up.', 1)\n",
      "('proclaiming', 1)\n",
      "('questionable,', 1)\n",
      "('display.', 1)\n",
      "('1334', 1)\n",
      "('Age', 1)\n",
      "('range?', 1)\n",
      "('generation.', 1)\n",
      "('line\\xe2\\x80\\x99s', 1)\n",
      "('along', 1)\n",
      "('substance', 1)\n",
      "('standout', 1)\n",
      "('unconvinced', 1)\n",
      "('30', 1)\n",
      "('metre', 1)\n",
      "('resulting', 1)\n",
      "('here.', 1)\n",
      "('however,', 1)\n",
      "('options', 1)\n",
      "('divide', 1)\n",
      "('67.1', 1)\n",
      "('fireworks', 1)\n",
      "('ticking', 1)\n",
      "('Also', 1)\n",
      "('resolutions', 1)\n",
      "('Charging', 1)\n",
      "('market', 1)\n",
      "('Core', 1)\n",
      "('use', 1)\n",
      "('prove', 1)\n",
      "('times).', 1)\n",
      "('eagled', 1)\n",
      "('next', 1)\n",
      "('live', 1)\n",
      "('music', 1)\n",
      "('taken', 1)\n",
      "('right.', 1)\n",
      "('unthinkable', 1)\n",
      "('box,', 1)\n",
      "('company', 1)\n",
      "('moored', 1)\n",
      "('warm', 1)\n",
      "('stick', 1)\n",
      "('7000', 1)\n",
      "('(172g).', 1)\n",
      "('Better', 1)\n",
      "('hour', 1)\n",
      "('2.64', 1)\n",
      "('work', 1)\n",
      "('Improvements', 1)\n",
      "('can', 1)\n",
      "('isn\\xe2\\x80\\x99t', 1)\n",
      "('lighter', 1)\n",
      "('App', 1)\n",
      "('history', 1)\n",
      "('headphones', 1)\n",
      "('dropped', 1)\n",
      "('\\xe2\\x80\\x9ccinema', 1)\n",
      "('cool', 1)\n",
      "('earpiece', 1)\n",
      "('(perhaps', 1)\n",
      "('management,', 1)\n",
      "('disappointingly', 1)\n",
      "('Fusion', 1)\n",
      "('77.9', 1)\n",
      "('opt', 1)\n",
      "('native', 1)\n",
      "('$100', 1)\n",
      "('snaps', 1)\n",
      "('chipset:', 1)\n",
      "('after', 1)\n",
      "('Can', 1)\n",
      "('follows:', 1)\n",
      "('produce', 1)\n",
      "('polarise', 1)\n",
      "('core', 1)\n",
      "('wouldn\\xe2\\x80\\x99t', 1)\n",
      "('Still', 1)\n",
      "('natural', 1)\n",
      "('Needless', 1)\n",
      "('Series', 1)\n",
      "('predicted,', 1)\n",
      "('processor', 1)\n",
      "('1440)', 1)\n",
      "('goodbye', 1)\n",
      "('every', 1)\n",
      "('music.', 1)\n",
      "('Bottom', 1)\n",
      "('over', 1)\n",
      "('2017.', 1)\n",
      "('flagships', 1)\n",
      "('paper', 1)\n",
      "('through', 1)\n",
      "('port.', 1)\n",
      "('1', 1)\n",
      "('4.7-inch', 1)\n",
      "('how', 1)\n",
      "('exact', 1)\n",
      "('celebrate', 1)\n",
      "('Adaptors', 1)\n",
      "('2017', 1)\n",
      "('lies', 1)\n",
      "('welcome,', 1)\n",
      "('greater', 1)\n",
      "('significance', 1)\n",
      "('Lightning', 1)\n",
      "('year.', 1)\n",
      "('fingerprint', 1)\n",
      "('catchup.', 1)\n",
      "('bigger', 1)\n",
      "('2K', 1)\n",
      "('Aluminium', 1)\n",
      "('name', 1)\n",
      "('times)', 1)\n",
      "('stopped', 1)\n",
      "('out', 1)\n",
      "('telephoto', 1)\n",
      "('Curse', 1)\n",
      "('138.3', 1)\n",
      "('56mm),', 1)\n",
      "('durability', 1)\n",
      "('Rose', 1)\n",
      "('recording,', 1)\n",
      "('28mm', 1)\n",
      "('space', 1)\n",
      "('Retina', 1)\n",
      "('($849),', 1)\n",
      "('increase', 1)\n",
      "('got', 1)\n",
      "('disclose', 1)\n",
      "('wasn\\xe2\\x80\\x99t', 1)\n",
      "('interesting.', 1)\n",
      "('3.07', 1)\n",
      "('According', 1)\n",
      "('you\\xe2\\x80\\x99ll', 1)\n",
      "('base', 1)\n",
      "('struggle', 1)\n",
      "('One', 1)\n",
      "('sensors', 1)\n",
      "('Apple\\xe2\\x80\\x99s', 1)\n",
      "('Battery', 1)\n",
      "('where', 1)\n",
      "('calls),', 1)\n",
      "('keep', 1)\n",
      "('camera)', 1)\n",
      "('uses', 1)\n",
      "('loud', 1)\n",
      "('speeds', 1)\n",
      "('iPad', 1)\n",
      "('already', 1)\n",
      "('65.6%', 1)\n",
      "('feel', 1)\n",
      "('There', 1)\n",
      "('minutes)', 1)\n",
      "('OIS,', 1)\n",
      "('OIS.', 1)\n",
      "('array', 1)\n",
      "('quality', 1)\n",
      "('stage', 1)\n",
      "('Samsung\\xe2\\x80\\x99s', 1)\n",
      "('given', 1)\n",
      "('cameras)', 1)\n",
      "('top', 1)\n",
      "('brands.', 1)\n",
      "('aiding', 1)\n",
      "('Such', 1)\n",
      "('188', 1)\n",
      "('submersion', 1)\n",
      "('listen', 1)\n",
      "('on,', 1)\n",
      "('(6.23', 1)\n",
      "('(2560', 1)\n",
      "('Pro.', 1)\n",
      "('because', 1)\n",
      "('eyed', 1)\n",
      "('quad', 1)\n",
      "('wide', 1)\n",
      "('12', 1)\n",
      "('still:', 1)\n",
      "('see', 1)\n",
      "('Lastly', 1)\n",
      "('Is', 1)\n",
      "('wide-angle', 1)\n",
      "('close', 1)\n",
      "('(0.14', 1)\n",
      "('unchanged', 1)\n",
      "('(0.17', 1)\n",
      "('(and', 1)\n",
      "('claim:', 1)\n",
      "('style', 1)\n",
      "('portrait', 1)\n",
      "('need', 1)\n",
      "('seen', 1)\n",
      "('Main', 1)\n",
      "('ditched', 1)\n",
      "('year\\xe2\\x80\\x99s', 1)\n",
      "('Then', 1)\n",
      "('158.2', 1)\n",
      "('there\\xe2\\x80\\x99s', 1)\n",
      "('mic', 1)\n",
      "('upgrading', 1)\n",
      "('mid', 1)\n",
      "('internal', 1)\n",
      "('useless', 1)\n",
      "('option.', 1)\n",
      "('(single', 1)\n",
      "('($949)', 1)\n",
      "('most', 1)\n",
      "('(f/1.8,', 1)\n",
      "('retaining', 1)\n",
      "('coveted', 1)\n",
      "('modem', 1)\n",
      "('captured.', 1)\n",
      "('I\\xe2\\x80\\x99d', 1)\n",
      "('Some', 1)\n",
      "('CPU,', 1)\n",
      "('reflecting', 1)\n",
      "('iPhones,', 1)\n",
      "('doesn\\xe2\\x80\\x99t', 1)\n",
      "('Speed', 1)\n",
      "('fitted', 1)\n",
      "('favour', 1)\n",
      "('7.3', 1)\n",
      "('7.1', 1)\n",
      "('glass\\xe2\\x80\\x99', 1)\n",
      "('depth', 1)\n",
      "('with.', 1)\n",
      "('front', 1)\n",
      "('Big', 1)\n",
      "('67.7%', 1)\n",
      "('OLED', 1)\n",
      "('short', 1)\n",
      "('brighter', 1)\n",
      "('only', 1)\n",
      "('pretty', 1)\n",
      "('equipped', 1)\n",
      "('pointed', 1)\n",
      "('Lifted', 1)\n",
      "('topple', 1)\n",
      "('gains', 1)\n",
      "('photography', 1)\n",
      "('fastest', 1)\n",
      "('2016.', 1)\n",
      "('shots).', 1)\n",
      "('during', 1)\n",
      "('12MP', 1)\n",
      "('(one', 1)\n",
      "('\\xe2\\x80\\x98True', 1)\n",
      "('nicely', 1)\n",
      "('True', 1)\n",
      "('predicted', 1)\n",
      "('double', 1)\n",
      "('charging.', 1)\n",
      "('grab', 1)\n",
      "('spotted', 1)\n",
      "('omission', 1)\n",
      "('64GB', 1)\n",
      "('Storage', 1)\n",
      "('stagnation', 1)\n",
      "('around', 1)\n",
      "('1920', 1)\n",
      "('Recommended', 1)\n",
      "('Performance', 1)\n",
      "('138', 1)\n",
      "('That', 1)\n",
      "('years,', 1)\n",
      "('Quad', 1)\n",
      "('(though', 1)\n",
      "('keynote', 1)\n",
      "('40%', 1)\n",
      "('brighter,', 1)\n",
      "('bemoan', 1)\n",
      "('setup.', 1)\n",
      "('feeling', 1)\n",
      "('generous', 1)\n",
      "('hours', 1)\n",
      "('enabling', 1)\n",
      "('sensitive', 1)\n",
      "('loudly', 1)\n",
      "('fans', 1)\n",
      "('close.', 1)\n",
      "('surface.', 1)\n",
      "('(4.87', 1)\n",
      "('among', 1)\n",
      "('finishes,', 1)\n",
      "('had', 1)\n",
      "('(good', 1)\n",
      "('money,', 1)\n",
      "('25%', 1)\n",
      "('2014\\xe2\\x80\\x99s', 1)\n",
      "('3GB', 1)\n",
      "('save', 1)\n",
      "('second', 1)\n",
      "('($649),', 1)\n",
      "('interest', 1)\n",
      "('expected', 1)\n",
      "('standard\\xe2\\x80\\x9d', 1)\n",
      "('upgrades.', 1)\n",
      "('IP67', 1)\n",
      "('options.', 1)\n",
      "('options,', 1)\n",
      "('edges.', 1)\n",
      "('Stabilisation,', 1)\n",
      "('options)', 1)\n",
      "('photos', 1)\n",
      "('graphics', 1)\n",
      "('prices', 1)\n",
      "('hardcore', 1)\n",
      "('Consequently', 1)\n",
      "('heavier', 1)\n",
      "('Differentiator', 1)\n",
      "('7,', 1)\n",
      "('replaced', 1)\n",
      "('Any', 1)\n",
      "('launched', 1)\n",
      "('faster.', 1)\n",
      "('Both', 1)\n",
      "('light.', 1)\n",
      "('(P3)', 1)\n",
      "('surface', 1)\n",
      "('32GB,', 1)\n",
      "('f/2.8,', 1)\n",
      "('said,', 1)\n",
      "('failed', 1)\n",
      "('respectively.', 1)\n",
      "('Grey.', 1)\n",
      "('headlines', 1)\n",
      "('(401', 1)\n",
      "('breakdown', 1)\n",
      "('bands,', 1)\n",
      "('wired', 1)\n",
      "('dust', 1)\n",
      "('Silver,', 1)\n",
      "('ID', 1)\n",
      "('made.', 1)\n",
      "('four-LED', 1)\n",
      "('well', 1)\n",
      "('counterparts:', 1)\n",
      "('audio', 1)\n",
      "('latter', 1)\n",
      "('16GB,', 1)\n",
      "('increasingly', 1)\n",
      "('able', 1)\n",
      "('(6.63', 1)\n",
      "('batteries', 1)\n",
      "('touch', 1)\n",
      "('omissions', 1)\n",
      "('Jet', 1)\n",
      "('rigid', 1)\n",
      "('Showing', 1)\n",
      "('seems', 1)\n",
      "('add', 1)\n",
      "('potential', 1)\n",
      "('optimising', 1)\n",
      "('usage', 1)\n",
      "('5g', 1)\n",
      "('ago)', 1)\n",
      "('256GB.', 1)\n",
      "('(129g)', 1)\n",
      "('listening', 1)\n",
      "('megapixel', 1)\n",
      "('Upgraded', 1)\n",
      "('loss', 1)\n",
      "('fractionally', 1)\n",
      "('signal', 1)\n",
      "('zoom', 1)\n",
      "('either', 1)\n",
      "('Upgrades', 1)\n",
      "('replacement', 1)\n",
      "('450Mbit.', 1)\n",
      "('50', 1)\n",
      "('10th', 1)\n",
      "('money:', 1)\n",
      "('home', 1)\n",
      "('HD', 1)\n",
      "('before,', 1)\n",
      "('Life', 1)\n",
      "('0.28', 1)\n",
      "('0.29', 1)\n",
      "('frees', 1)\n",
      "('opposite', 1)\n",
      "('provides', 1)\n",
      "('results.', 1)\n",
      "('models)', 1)\n",
      "('Tone\\xe2\\x80\\x99', 1)\n",
      "('notably', 1)\n",
      "('waits', 1)\n",
      "('carried', 1)\n",
      "('getting', 1)\n",
      "('processors.', 1)\n",
      "('improvement', 1)\n",
      "('introduced', 1)\n",
      "('own', 1)\n",
      "('image', 1)\n",
      "('Their', 1)\n",
      "('anniversary', 1)\n",
      "('harness', 1)\n",
      "('4G', 1)\n",
      "('(better', 1)\n",
      "('jack,', 1)\n",
      "('particular),', 1)\n",
      "('(the', 1)\n",
      "('Selling', 1)\n",
      "('tidied', 1)\n",
      "('Though', 1)\n",
      "('removing', 1)\n",
      "('support', 1)\n",
      "('custom', 1)\n",
      "('Optical', 1)\n",
      "('labelling', 1)\n",
      "('(5.44', 1)\n",
      "('5.5-inch', 1)\n",
      "('Samsung,', 1)\n",
      "('750', 1)\n",
      "('elsewhere', 1)\n",
      "('Interestingly', 1)\n",
      "('Major', 1)\n",
      "('wireless', 1)\n",
      "('zoom,', 1)\n",
      "('gain', 1)\n",
      "('larger', 1)\n",
      "('metrics,', 1)\n",
      "('Tone', 1)\n",
      "('users.', 1)\n",
      "('lead', 1)\n",
      "('panels', 1)\n",
      "('clear', 1)\n",
      "('Space', 1)\n",
      "('vibrations,', 1)\n",
      "('sales', 1)\n",
      "('images', 1)\n",
      "('single', 1)\n",
      "('($849)', 1)\n",
      "('model,', 1)\n",
      "('denying', 1)\n",
      "('A10', 1)\n",
      "('antenna', 1)\n",
      "('percent', 1)\n",
      "('(something', 1)\n",
      "('field', 1)\n",
      "('you', 1)\n",
      "('developers', 1)\n",
      "('Displays', 1)\n",
      "('2017\\xe2\\x80\\xa6', 1)\n",
      "('(326', 1)\n",
      "('detractors', 1)\n",
      "('Price', 1)\n",
      "('highlighting', 1)\n",
      "('dimensions', 1)\n",
      "('click.', 1)\n",
      "('back:', 1)\n",
      "('storage.', 1)\n",
      "('mimic', 1)\n",
      "('Points', 1)\n",
      "('defections', 1)\n",
      "('Dual', 1)\n",
      "('4g', 1)\n",
      "('having', 1)\n",
      "('Minimal', 1)\n",
      "('once', 1)\n"
     ]
    }
   ],
   "source": [
    "# test example\n",
    "main('iphone7.txt')"
   ]
  },
  {
   "cell_type": "code",
   "execution_count": 65,
   "metadata": {
    "collapsed": false
   },
   "outputs": [],
   "source": [
    "# Problem 35: Write a program to count frequency of characters in a given file. \n",
    "# Can you use character frequency to tell whether the given file is a Python program file, \n",
    "# C program file or a text file?\n",
    "\n",
    "def cha_frequency(cha):\n",
    "    \"\"\"Returns frequency of each word given a list of words.\n",
    "\n",
    "        >>> word_frequency(['a', 'b', 'a'])\n",
    "        {'a': 2, 'b': 1}\n",
    "    \"\"\"\n",
    "    frequency = {}\n",
    "    for c in cha:\n",
    "        frequency[c] = frequency.get(c, 0) + 1\n",
    "    return frequency\n",
    "\n",
    "def read_cha(filename):\n",
    "    return list(open(filename).read())\n",
    "\n",
    "def main_c(filename):\n",
    "    frequency = cha_frequency(read_cha(filename))\n",
    "\n",
    "    for key in sorted(frequency, key=frequency.get, reverse=True):\n",
    "         print(key,frequency[key])"
   ]
  },
  {
   "cell_type": "code",
   "execution_count": 66,
   "metadata": {
    "collapsed": false
   },
   "outputs": [
    {
     "name": "stdout",
     "output_type": "stream",
     "text": [
      "(' ', 2089)\n",
      "('e', 1112)\n",
      "('t', 705)\n",
      "('o', 696)\n",
      "('a', 668)\n",
      "('i', 643)\n",
      "('n', 602)\n",
      "('s', 575)\n",
      "('h', 519)\n",
      "('r', 494)\n",
      "('l', 415)\n",
      "('d', 346)\n",
      "('p', 255)\n",
      "('u', 240)\n",
      "('c', 225)\n",
      "('g', 220)\n",
      "('m', 199)\n",
      "('P', 144)\n",
      "('f', 137)\n",
      "('\\n', 133)\n",
      "('y', 126)\n",
      "('b', 123)\n",
      "('w', 119)\n",
      "('.', 101)\n",
      "(',', 79)\n",
      "('7', 75)\n",
      "('v', 74)\n",
      "('\\x80', 57)\n",
      "('\\xe2', 57)\n",
      "('k', 56)\n",
      "('A', 53)\n",
      "('6', 50)\n",
      "('2', 48)\n",
      "('S', 47)\n",
      "('1', 45)\n",
      "('0', 44)\n",
      "('x', 37)\n",
      "('B', 35)\n",
      "(')', 32)\n",
      "('(', 32)\n",
      "('G', 31)\n",
      "('\\x99', 30)\n",
      "('I', 30)\n",
      "(':', 26)\n",
      "('T', 25)\n",
      "('4', 24)\n",
      "('8', 24)\n",
      "('5', 21)\n",
      "('3', 19)\n",
      "('D', 18)\n",
      "('M', 17)\n",
      "('\\x93', 16)\n",
      "('C', 16)\n",
      "('L', 15)\n",
      "('-', 14)\n",
      "('F', 13)\n",
      "('j', 13)\n",
      "('9', 11)\n",
      "('E', 9)\n",
      "('O', 9)\n",
      "('%', 8)\n",
      "('z', 8)\n",
      "('R', 7)\n",
      "('$', 7)\n",
      "('/', 7)\n",
      "('q', 7)\n",
      "('\\x98', 6)\n",
      "('K', 5)\n",
      "('?', 4)\n",
      "('U', 4)\n",
      "(\"'\", 3)\n",
      "('\\xa6', 3)\n",
      "('N', 3)\n",
      "('W', 3)\n",
      "('&', 3)\n",
      "('Y', 2)\n",
      "('\\x9d', 1)\n",
      "('\\x9c', 1)\n",
      "('H', 1)\n",
      "('J', 1)\n",
      "('Q', 1)\n"
     ]
    }
   ],
   "source": [
    "# test example\n",
    "main_c('iphone7.txt')"
   ]
  },
  {
   "cell_type": "code",
   "execution_count": 67,
   "metadata": {
    "collapsed": false
   },
   "outputs": [
    {
     "data": {
      "text/plain": [
       "[['peerl'],\n",
       " ['hjllo'],\n",
       " ['phython'],\n",
       " ['hellp'],\n",
       " ['hellq'],\n",
       " ['hellr'],\n",
       " ['hells'],\n",
       " ['hellt'],\n",
       " ['hellu'],\n",
       " ['hellv'],\n",
       " ['hellw'],\n",
       " ['iello'],\n",
       " ['helly'],\n",
       " ['hellz'],\n",
       " ['heflo', 'helfo'],\n",
       " ['hellf'],\n",
       " ['hillo'],\n",
       " ['helll'],\n",
       " ['hellm'],\n",
       " ['helln'],\n",
       " ['hello', 'hello', 'hello', 'hello', 'hello'],\n",
       " ['hkllo'],\n",
       " ['hellg'],\n",
       " ['heglo', 'helgo'],\n",
       " ['lello'],\n",
       " ['hemlo', 'helmo'],\n",
       " ['gello'],\n",
       " ['lhello', 'hlello', 'helllo', 'helllo', 'helllo'],\n",
       " ['hallo'],\n",
       " ['hbllo'],\n",
       " ['ello'],\n",
       " ['bhello', 'hbello', 'hebllo', 'helblo', 'hellbo'],\n",
       " ['hmllo'],\n",
       " ['mhello', 'hmello', 'hemllo', 'helmlo', 'hellmo'],\n",
       " ['hyllo'],\n",
       " ['hdllo'],\n",
       " ['ahello', 'haello', 'heallo', 'helalo', 'hellao'],\n",
       " ['haskeoll'],\n",
       " ['helli'],\n",
       " ['heilo', 'helio'],\n",
       " ['dhello', 'hdello', 'hedllo', 'heldlo', 'helldo'],\n",
       " ['hellc'],\n",
       " ['heclo', 'helco'],\n",
       " ['hellh'],\n",
       " ['hehlo', 'helho'],\n",
       " ['hrllo'],\n",
       " ['hlllo'],\n",
       " ['cl'],\n",
       " ['javla'],\n",
       " ['kello'],\n",
       " ['nhello', 'hnello', 'henllo', 'helnlo', 'hellno'],\n",
       " ['hejlo', 'heljo'],\n",
       " ['hellj'],\n",
       " ['hxllo'],\n",
       " ['uello'],\n",
       " ['hzllo'],\n",
       " ['khello', 'hkello', 'hekllo', 'helklo', 'hellko'],\n",
       " ['aello'],\n",
       " ['hqllo'],\n",
       " ['oello'],\n",
       " ['hsllo'],\n",
       " ['htllo'],\n",
       " ['hullo'],\n",
       " ['hvllo'],\n",
       " ['hwllo'],\n",
       " ['fhello', 'hfello', 'hefllo', 'helflo', 'hellfo'],\n",
       " ['tello'],\n",
       " ['wello'],\n",
       " ['vello'],\n",
       " ['qello'],\n",
       " ['pello'],\n",
       " ['sello'],\n",
       " ['hollo'],\n",
       " ['ehello', 'heello', 'heello', 'helelo', 'helleo'],\n",
       " ['yello'],\n",
       " ['xello'],\n",
       " ['hpllo'],\n",
       " ['heelo', 'heleo'],\n",
       " ['hhllo'],\n",
       " ['helle'],\n",
       " ['ohello', 'hoello', 'heollo', 'helolo', 'helloo'],\n",
       " ['rello'],\n",
       " ['xhello', 'hxello', 'hexllo', 'helxlo', 'hellxo'],\n",
       " ['yhello', 'hyello', 'heyllo', 'helylo', 'hellyo'],\n",
       " ['zhello', 'hzello', 'hezllo', 'helzlo', 'hellzo'],\n",
       " ['phello', 'hpello', 'hepllo', 'helplo', 'hellpo'],\n",
       " ['qhello', 'hqello', 'heqllo', 'helqlo', 'hellqo'],\n",
       " ['rhello', 'hrello', 'herllo', 'helrlo', 'hellro'],\n",
       " ['shello', 'hsello', 'hesllo', 'helslo', 'hellso'],\n",
       " ['thello', 'htello', 'hetllo', 'heltlo', 'hellto'],\n",
       " ['uhello', 'huello', 'heullo', 'helulo', 'helluo'],\n",
       " ['vhello', 'hvello', 'hevllo', 'helvlo', 'hellvo'],\n",
       " ['whello', 'hwello', 'hewllo', 'helwlo', 'hellwo'],\n",
       " ['ghello', 'hgello', 'hegllo', 'helglo', 'hellgo'],\n",
       " ['healo', 'helao'],\n",
       " ['hella'],\n",
       " ['hnllo'],\n",
       " ['dello'],\n",
       " ['jhello', 'hjello', 'hejllo', 'heljlo', 'helljo'],\n",
       " ['cello'],\n",
       " ['hellx'],\n",
       " ['zello'],\n",
       " ['helo', 'helo'],\n",
       " ['hell'],\n",
       " ['hellb'],\n",
       " ['heblo', 'helbo'],\n",
       " ['bello'],\n",
       " ['henlo', 'helno'],\n",
       " ['mello'],\n",
       " ['fello'],\n",
       " ['hfllo'],\n",
       " ['chello', 'hcello', 'hecllo', 'helclo', 'hellco'],\n",
       " ['hgllo'],\n",
       " ['eello'],\n",
       " ['ihello', 'hiello', 'heillo', 'helilo', 'hellio'],\n",
       " ['hcllo'],\n",
       " ['hllo'],\n",
       " ['jello'],\n",
       " ['heolo', 'heloo'],\n",
       " ['heklo', 'helko'],\n",
       " ['nello'],\n",
       " ['hellk'],\n",
       " ['hhello', 'hhello', 'hehllo', 'helhlo', 'hellho'],\n",
       " ['heylo', 'helyo'],\n",
       " ['hexlo', 'helxo'],\n",
       " ['hezlo', 'helzo'],\n",
       " ['hedlo', 'heldo'],\n",
       " ['helld'],\n",
       " ['heqlo', 'helqo'],\n",
       " ['heplo', 'helpo'],\n",
       " ['heslo', 'helso'],\n",
       " ['herlo', 'helro'],\n",
       " ['heulo', 'heluo'],\n",
       " ['hetlo', 'helto'],\n",
       " ['hewlo', 'helwo'],\n",
       " ['hevlo', 'helvo']]"
      ]
     },
     "execution_count": 67,
     "metadata": {},
     "output_type": "execute_result"
    }
   ],
   "source": [
    "# Problem 36: Write a program to find anagrams in a given list of words. Two words are called anagrams if one \n",
    "# word can be formed by rearranging letters of another. For example ‘eat’, ‘ate’ and ‘tea’ are anagrams.\n",
    "\n",
    "def sort_cha(word): # sort the word character because anagrams have the same sort\n",
    "    return (\"\").join(sorted(word))\n",
    "\n",
    "def anagrams(word_list): \n",
    "    anagrams_dict = {}\n",
    "    for word in words:\n",
    "        if sort_cha(word) not in anagrams_dict:\n",
    "            anagrams_dict[sort_cha(word)] = [word]\n",
    "        else:\n",
    "            anagrams_dict[sort_cha(word)] += [word]\n",
    "    return [value for key, value in anagrams_dict.items()]\n",
    "\n",
    "anagrams(['eat', 'ate', 'done', 'tea', 'soup', 'node'])"
   ]
  },
  {
   "cell_type": "code",
   "execution_count": 68,
   "metadata": {
    "collapsed": false
   },
   "outputs": [
    {
     "data": {
      "text/plain": [
       "[3, 2, 1]"
      ]
     },
     "execution_count": 68,
     "metadata": {},
     "output_type": "execute_result"
    }
   ],
   "source": [
    "# Problem 37: Write a function valuesort to sort values of a dictionary based on the key.\n",
    "\n",
    "def valuesort(dic):\n",
    "    return [dic[key] for key in sorted(dic, key=dic.get, reverse=True)]\n",
    "valuesort({'x': 1, 'y': 2, 'a': 3})"
   ]
  },
  {
   "cell_type": "code",
   "execution_count": 69,
   "metadata": {
    "collapsed": false
   },
   "outputs": [
    {
     "data": {
      "text/plain": [
       "{1: 'x', 2: 'y', 3: 'z'}"
      ]
     },
     "execution_count": 69,
     "metadata": {},
     "output_type": "execute_result"
    }
   ],
   "source": [
    "# Problem 38: Write a function invertdict to interchange keys and values in a dictionary. \n",
    "# For simplicity, assume that all values are unique.\n",
    "\n",
    "def invertdict(dic):\n",
    "    ikey = [value for key, value in dic.items()]\n",
    "    ivalue = [key for key, value in dic.items()]\n",
    "    i_dic = {}\n",
    "    for i in range(len(ikey)):\n",
    "        i_dic[ikey[i]] = ivalue[i]\n",
    "    return i_dic\n",
    "invertdict({'x': 1, 'y': 2, 'z': 3})"
   ]
  }
 ],
 "metadata": {
  "kernelspec": {
   "display_name": "Python 2",
   "language": "python",
   "name": "python2"
  },
  "language_info": {
   "codemirror_mode": {
    "name": "ipython",
    "version": 2
   },
   "file_extension": ".py",
   "mimetype": "text/x-python",
   "name": "python",
   "nbconvert_exporter": "python",
   "pygments_lexer": "ipython2",
   "version": "2.7.12"
  }
 },
 "nbformat": 4,
 "nbformat_minor": 0
}
