{
 "cells": [
  {
   "cell_type": "markdown",
   "metadata": {},
   "source": [
    "# Load data\n",
    "\n",
    "Define a function to input data and extract the delay flights"
   ]
  },
  {
   "cell_type": "code",
   "execution_count": 1,
   "metadata": {
    "collapsed": true
   },
   "outputs": [],
   "source": [
    "import numpy as np\n",
    "import pandas as pd"
   ]
  },
  {
   "cell_type": "code",
   "execution_count": 2,
   "metadata": {
    "collapsed": true
   },
   "outputs": [],
   "source": [
    "path = '/Volumes/DATA/data_science/works_examples/Flight_delay/Data/2015/'\n",
    "files = ['103642275_T_ONTIME-' +str(m)+ '_15.csv' for m in range(1,13)]"
   ]
  },
  {
   "cell_type": "code",
   "execution_count": 3,
   "metadata": {
    "collapsed": false
   },
   "outputs": [],
   "source": [
    "def read_delayflight(path, filename):\n",
    "    df = pd.read_csv(path + filename, low_memory=False)\n",
    "    \n",
    "    # extract any delay flights\n",
    "    delay = df[['CARRIER_DELAY', 'WEATHER_DELAY', 'NAS_DELAY', 'SECURITY_DELAY', 'LATE_AIRCRAFT_DELAY']].notnull().any(1)\n",
    "    df = df[delay]\n",
    "    cols = ['YEAR', 'MONTH', 'DAY_OF_MONTH', 'DAY_OF_WEEK', 'UNIQUE_CARRIER', 'ORIGIN', 'ORIGIN_CITY_NAME', 'ORIGIN_STATE_ABR', \\\n",
    "            'DEST', 'DEST_CITY_NAME', 'DEST_STATE_ABR', 'CRS_DEP_TIME', 'DEP_TIME', 'DEP_DELAY', 'DEP_DELAY_NEW', 'DEP_DEL15', 'DEP_DELAY_GROUP', \\\n",
    "            'DEP_TIME_BLK', 'TAXI_OUT', 'WHEELS_OFF', 'WHEELS_ON', 'TAXI_IN', 'CRS_ARR_TIME', 'ARR_TIME', 'ARR_DELAY', 'ARR_DELAY_NEW', \\\n",
    "            'ARR_DEL15', 'ARR_DELAY_GROUP', 'ARR_TIME_BLK', 'CRS_ELAPSED_TIME', 'ACTUAL_ELAPSED_TIME', 'AIR_TIME', \\\n",
    "            'DISTANCE', 'DISTANCE_GROUP', 'CARRIER_DELAY', 'WEATHER_DELAY', 'NAS_DELAY', 'SECURITY_DELAY', 'LATE_AIRCRAFT_DELAY', \\\n",
    "            'FIRST_DEP_TIME', 'TOTAL_ADD_GTIME', 'LONGEST_ADD_GTIME']\n",
    "    df = df[cols]\n",
    "    \n",
    "    # set column name to lowercase\n",
    "    cols = [s.lower() for s in cols]\n",
    "    df.columns = cols\n",
    "    \n",
    "    df = df.reset_index(drop=True)\n",
    "    return df"
   ]
  },
  {
   "cell_type": "code",
   "execution_count": 4,
   "metadata": {
    "collapsed": false
   },
   "outputs": [],
   "source": [
    "df = pd.DataFrame()\n",
    "for m in range(0,12):\n",
    "    df_m = read_delayflight(path, files[m])\n",
    "    df = pd.concat([df, df_m])\n",
    "\n",
    "# select column to convert to category\n",
    "catcol = ['unique_carrier', 'origin', 'origin_city_name', 'origin_state_abr', 'dest', 'dest_city_name', 'dest_state_abr']\n",
    "df[catcol] = df[catcol].apply(lambda c: c.astype('category'))"
   ]
  },
  {
   "cell_type": "code",
   "execution_count": 5,
   "metadata": {
    "collapsed": false,
    "scrolled": false
   },
   "outputs": [
    {
     "name": "stdout",
     "output_type": "stream",
     "text": [
      "<class 'pandas.core.frame.DataFrame'>\n",
      "Int64Index: 1065816 entries, 0 to 96771\n",
      "Data columns (total 42 columns):\n",
      "year                   1065816 non-null int64\n",
      "month                  1065816 non-null int64\n",
      "day_of_month           1065816 non-null int64\n",
      "day_of_week            1065816 non-null int64\n",
      "unique_carrier         1065816 non-null category\n",
      "origin                 1065816 non-null category\n",
      "origin_city_name       1065816 non-null category\n",
      "origin_state_abr       1065816 non-null category\n",
      "dest                   1065816 non-null category\n",
      "dest_city_name         1065816 non-null category\n",
      "dest_state_abr         1065816 non-null category\n",
      "crs_dep_time           1065816 non-null int64\n",
      "dep_time               1065816 non-null float64\n",
      "dep_delay              1065816 non-null float64\n",
      "dep_delay_new          1065816 non-null float64\n",
      "dep_del15              1065816 non-null float64\n",
      "dep_delay_group        1065816 non-null float64\n",
      "dep_time_blk           1065816 non-null object\n",
      "taxi_out               1065816 non-null float64\n",
      "wheels_off             1065816 non-null float64\n",
      "wheels_on              1065816 non-null float64\n",
      "taxi_in                1065816 non-null float64\n",
      "crs_arr_time           1065816 non-null int64\n",
      "arr_time               1065816 non-null float64\n",
      "arr_delay              1065816 non-null float64\n",
      "arr_delay_new          1065816 non-null float64\n",
      "arr_del15              1065816 non-null float64\n",
      "arr_delay_group        1065816 non-null float64\n",
      "arr_time_blk           1065816 non-null object\n",
      "crs_elapsed_time       1065816 non-null float64\n",
      "actual_elapsed_time    1065816 non-null float64\n",
      "air_time               1065816 non-null float64\n",
      "distance               1065816 non-null float64\n",
      "distance_group         1065816 non-null int64\n",
      "carrier_delay          1065816 non-null float64\n",
      "weather_delay          1065816 non-null float64\n",
      "nas_delay              1065816 non-null float64\n",
      "security_delay         1065816 non-null float64\n",
      "late_aircraft_delay    1065816 non-null float64\n",
      "first_dep_time         30992 non-null float64\n",
      "total_add_gtime        30992 non-null float64\n",
      "longest_add_gtime      30992 non-null float64\n",
      "dtypes: category(7), float64(26), int64(7), object(2)\n",
      "memory usage: 303.9+ MB\n"
     ]
    }
   ],
   "source": [
    "df.info()"
   ]
  },
  {
   "cell_type": "code",
   "execution_count": 6,
   "metadata": {
    "collapsed": true
   },
   "outputs": [],
   "source": [
    "df.to_csv('flightdelay.csv')"
   ]
  }
 ],
 "metadata": {
  "kernelspec": {
   "display_name": "Python 2",
   "language": "python",
   "name": "python2"
  },
  "language_info": {
   "codemirror_mode": {
    "name": "ipython",
    "version": 2
   },
   "file_extension": ".py",
   "mimetype": "text/x-python",
   "name": "python",
   "nbconvert_exporter": "python",
   "pygments_lexer": "ipython2",
   "version": "2.7.12"
  }
 },
 "nbformat": 4,
 "nbformat_minor": 1
}
