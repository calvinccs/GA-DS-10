{
 "cells": [
  {
   "cell_type": "markdown",
   "metadata": {},
   "source": [
    "# Data Science Assignment 1\n",
    "#### By Calvin Cheung (21/8/2016)\n",
    "\n",
    "Write a Python script that sums up a whole column of text from a comma seperated file\n",
    "\n",
    "Data: nytimes.csv\n",
    "\n",
    "1. Right now the python script finds a sum of the impressions column. Update it to also return:\n",
    "\t1. The average age in the file\n",
    "\t1. Click through rate (avg clicks per impression)\n",
    "\t1. The oldest person in the file\n",
    "1. This should all be write out to the standard out using a few lines with \"print\"\n",
    "\n",
    "**EXTRA CREDIT**: \n",
    "\n",
    "How can you change the Python script a bit to:\n",
    "\n",
    "* Check out the distirbution of ages in the dataset. What do you notice?\n",
    "* Ignore the users whom are ... too young to be browsing the NYT ;)\n",
    "* Output the results into a new text file? Read a guide on [file manipulation](http://www.pythonforbeginners.com/systems-programming/reading-and-writing-files-in-python/) to get you started.\n"
   ]
  },
  {
   "cell_type": "code",
   "execution_count": 1,
   "metadata": {
    "collapsed": false
   },
   "outputs": [],
   "source": [
    "# import some python 3 functions\n",
    "% reset -f\n",
    "from __future__ import print_function\n",
    "from __future__ import division"
   ]
  },
  {
   "cell_type": "code",
   "execution_count": 2,
   "metadata": {
    "collapsed": false
   },
   "outputs": [
    {
     "name": "stdout",
     "output_type": "stream",
     "text": [
      "\"Age\",\"Gender\",\"Impressions\",\"Clicks\",\"Signed_In\"\r\n",
      "36,0,3,0,1\r\n",
      "73,1,3,0,1\r\n",
      "30,0,3,0,1\r\n",
      "49,1,3,0,1\r\n",
      "47,1,11,0,1\r\n",
      "47,0,11,1,1\r\n",
      "0,0,7,1,0\r\n",
      "46,0,5,0,1\r\n",
      "16,0,3,0,1\r\n"
     ]
    }
   ],
   "source": [
    "# check out the data file\n",
    "!head nytimes.csv"
   ]
  },
  {
   "cell_type": "code",
   "execution_count": 3,
   "metadata": {
    "collapsed": false,
    "scrolled": true
   },
   "outputs": [
    {
     "name": "stdout",
     "output_type": "stream",
     "text": [
      "2295559\n",
      "29.48\n",
      "108\n"
     ]
    }
   ],
   "source": [
    "#!/usr/bin/python\n",
    "\n",
    "# Start a counter\n",
    "Age = []\n",
    "Gender = []\n",
    "Impressions = []\n",
    "Clicks = []\n",
    "Signed_In = []\n",
    "\n",
    "# Open up reference to the data file\n",
    "with open('nytimes.csv') as fn:\n",
    "    # Store the textfile in memory\n",
    "    lines = fn.readlines()\n",
    "    \n",
    "# Pop off the header file\n",
    "lines.pop(0)\n",
    "\n",
    "# Extract each variable into a list\n",
    "for line in lines:\n",
    "    Age.append(int(line.strip().split(',')[0]))\n",
    "    Gender.append(int(line.strip().split(',')[1]))\n",
    "    Impressions.append(int(line.strip().split(',')[2]))\n",
    "    Clicks.append(int(line.strip().split(',')[3]))\n",
    "    #Signed_In.append(int(line.strip().split(',')[4]))\n",
    "\n",
    "# Calculate the objectives from the variabes lists\n",
    "\n",
    "# 1. mpressions_count\n",
    "Impressions_count = sum(Impressions)\n",
    "\n",
    "# 2. Average of age\n",
    "Age_average = sum(Age)/len(Age)\n",
    "\n",
    "# 3. Click through rate (avg clicks per impression)\n",
    "# first, create a function to calculate click rate, which is the \n",
    "# sum of clicks for each impression\n",
    "def click_rate(x):\n",
    "    cr = []\n",
    "    for i in range(0,len(Impressions)):\n",
    "        if Impressions[i] == x:\n",
    "            cr.append(Clicks[i])\n",
    "    return [len(cr), sum(cr), sum(cr)/len(cr)]\n",
    "\n",
    "ClickRate = []\n",
    "for i in list(set(Impressions)):\n",
    "    ClickRate.append([i,float(\"%.3f\"%click_rate(i)[2])])\n",
    "\n",
    "# 4. The oldest person in the file\n",
    "Oldest = max(Age)\n",
    "\n",
    "print(Impressions_count)\n",
    "print(\"%.2f\" % Age_average)\n",
    "print(Oldest)"
   ]
  },
  {
   "cell_type": "code",
   "execution_count": 4,
   "metadata": {
    "collapsed": false
   },
   "outputs": [
    {
     "data": {
      "text/plain": [
       "[[0, 0.0],\n",
       " [1, 0.018],\n",
       " [2, 0.038],\n",
       " [3, 0.056],\n",
       " [4, 0.072],\n",
       " [5, 0.093],\n",
       " [6, 0.11],\n",
       " [7, 0.13],\n",
       " [8, 0.147],\n",
       " [9, 0.172],\n",
       " [10, 0.182],\n",
       " [11, 0.202],\n",
       " [12, 0.238],\n",
       " [13, 0.272],\n",
       " [14, 0.251],\n",
       " [15, 0.375],\n",
       " [16, 0.2],\n",
       " [17, 0.364],\n",
       " [18, 0.0],\n",
       " [20, 0.0]]"
      ]
     },
     "execution_count": 4,
     "metadata": {},
     "output_type": "execute_result"
    }
   ],
   "source": [
    "ClickRate"
   ]
  },
  {
   "cell_type": "code",
   "execution_count": 5,
   "metadata": {
    "collapsed": false
   },
   "outputs": [
    {
     "data": {
      "text/plain": [
       "[[0, 4, 137106],\n",
       " [5, 9, 68],\n",
       " [10, 14, 3759],\n",
       " [15, 19, 21934],\n",
       " [20, 24, 28761],\n",
       " [25, 29, 28954],\n",
       " [30, 34, 29220],\n",
       " [35, 39, 35543],\n",
       " [40, 44, 35317],\n",
       " [45, 49, 32248],\n",
       " [50, 54, 32040],\n",
       " [55, 59, 22366],\n",
       " [60, 64, 22372],\n",
       " [65, 69, 9986],\n",
       " [70, 74, 8875],\n",
       " [75, 79, 5652],\n",
       " [80, 84, 2769],\n",
       " [85, 89, 1020],\n",
       " [90, 94, 335],\n",
       " [95, 99, 100],\n",
       " [100, 104, 13],\n",
       " [105, 109, 3]]"
      ]
     },
     "execution_count": 5,
     "metadata": {},
     "output_type": "execute_result"
    }
   ],
   "source": [
    "# Distirbution of ages\n",
    "# create a function to count age group\n",
    "def age_group(a1,a2,data):\n",
    "    # a1 is the lower limit and a2 is the upper limit of the group\n",
    "    AG = []\n",
    "    for i in data:\n",
    "        if i >= a1 and i <= a2:\n",
    "            AG.append(i)\n",
    "    return len(AG)\n",
    "\n",
    "group = []\n",
    "for a in range(0,110,5):\n",
    "    group.append([a, a+4, age_group(a,a+4,Age)])\n",
    "group"
   ]
  },
  {
   "cell_type": "code",
   "execution_count": 6,
   "metadata": {
    "collapsed": false
   },
   "outputs": [
    {
     "data": {
      "text/plain": [
       "[[0, 4, 0],\n",
       " [5, 9, 68],\n",
       " [10, 14, 3759],\n",
       " [15, 19, 21934],\n",
       " [20, 24, 28761],\n",
       " [25, 29, 28954],\n",
       " [30, 34, 29220],\n",
       " [35, 39, 35543],\n",
       " [40, 44, 35317],\n",
       " [45, 49, 32248],\n",
       " [50, 54, 32040],\n",
       " [55, 59, 22366],\n",
       " [60, 64, 22372],\n",
       " [65, 69, 9986],\n",
       " [70, 74, 8875],\n",
       " [75, 79, 5652],\n",
       " [80, 84, 2769],\n",
       " [85, 89, 1020],\n",
       " [90, 94, 335],\n",
       " [95, 99, 100],\n",
       " [100, 104, 13],\n",
       " [105, 109, 3]]"
      ]
     },
     "execution_count": 6,
     "metadata": {},
     "output_type": "execute_result"
    }
   ],
   "source": [
    "# Remove data that Age = 0\n",
    "Age_2 = []\n",
    "for i in Age:\n",
    "    if i != 0:\n",
    "        Age_2.append(i)\n",
    "\n",
    "group2 = []\n",
    "for a in range(0,110,5):\n",
    "    group2.append([a, a+4, age_group(a,a+4,Age_2)])\n",
    "group2        "
   ]
  },
  {
   "cell_type": "code",
   "execution_count": 7,
   "metadata": {
    "collapsed": false
   },
   "outputs": [
    {
     "data": {
      "text/plain": [
       "['0-4, 137106\\n',\n",
       " '5-9, 68\\n',\n",
       " '10-14, 3759\\n',\n",
       " '15-19, 21934\\n',\n",
       " '20-24, 28761\\n',\n",
       " '25-29, 28954\\n',\n",
       " '30-34, 29220\\n',\n",
       " '35-39, 35543\\n',\n",
       " '40-44, 35317\\n',\n",
       " '45-49, 32248\\n',\n",
       " '50-54, 32040\\n',\n",
       " '55-59, 22366\\n',\n",
       " '60-64, 22372\\n',\n",
       " '65-69, 9986\\n',\n",
       " '70-74, 8875\\n',\n",
       " '75-79, 5652\\n',\n",
       " '80-84, 2769\\n',\n",
       " '85-89, 1020\\n',\n",
       " '90-94, 335\\n',\n",
       " '95-99, 100\\n',\n",
       " '100-104, 13\\n',\n",
       " '105-109, 3\\n']"
      ]
     },
     "execution_count": 7,
     "metadata": {},
     "output_type": "execute_result"
    }
   ],
   "source": [
    "# To write data into a text file, first convert the list of number into list of string\n",
    "agedist = []\n",
    "for l in range(0, len(group2)):\n",
    "    agedist.append(str(group[l][0]) + '-' + str(group[l][1]) + ', ' + str(group[l][2]) + '\\n')\n",
    "agedist"
   ]
  },
  {
   "cell_type": "code",
   "execution_count": 8,
   "metadata": {
    "collapsed": false
   },
   "outputs": [],
   "source": [
    "# write data into text file\n",
    "file = open(\"age_dist.txt\", \"w\")\n",
    "file.write(\"Age_groups, Count\\n\")\n",
    "for line in range(0, len(agedist)):\n",
    "    file.write(agedist[line])\n",
    "file.close()"
   ]
  },
  {
   "cell_type": "code",
   "execution_count": 9,
   "metadata": {
    "collapsed": false,
    "scrolled": true
   },
   "outputs": [
    {
     "name": "stdout",
     "output_type": "stream",
     "text": [
      "Age_groups, Count\r\n",
      "0-4, 137106\r\n",
      "5-9, 68\r\n",
      "10-14, 3759\r\n",
      "15-19, 21934\r\n",
      "20-24, 28761\r\n",
      "25-29, 28954\r\n",
      "30-34, 29220\r\n",
      "35-39, 35543\r\n",
      "40-44, 35317\r\n"
     ]
    }
   ],
   "source": [
    "!head age_dist.txt"
   ]
  },
  {
   "cell_type": "code",
   "execution_count": null,
   "metadata": {
    "collapsed": true
   },
   "outputs": [],
   "source": []
  }
 ],
 "metadata": {
  "kernelspec": {
   "display_name": "Python 2",
   "language": "python",
   "name": "python2"
  },
  "language_info": {
   "codemirror_mode": {
    "name": "ipython",
    "version": 2
   },
   "file_extension": ".py",
   "mimetype": "text/x-python",
   "name": "python",
   "nbconvert_exporter": "python",
   "pygments_lexer": "ipython2",
   "version": "2.7.12"
  }
 },
 "nbformat": 4,
 "nbformat_minor": 0
}
